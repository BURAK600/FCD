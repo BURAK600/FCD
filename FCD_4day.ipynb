{
 "cells": [
  {
   "cell_type": "code",
   "execution_count": 1,
   "id": "5f8426e9",
   "metadata": {},
   "outputs": [],
   "source": [
    "import numpy as np \n",
    "import pandas as pd\n",
    "import matplotlib.pyplot as plt\n",
    "data_dynamic1 = pd.read_csv(r\"06.2.w_e_030321_fcdDynamicData.csv\")\n",
    "data_dynamic2 = pd.read_csv(r\"06.2.w_e_040321_fcdDynamicData.csv\")\n",
    "data_dynamic3 = pd.read_csv(r\"06.2.w_e_050321_fcdDynamicData.csv\")\n",
    "#data_dynamic4 = pd.read_csv(r\"06.2.w_e_150321_fcdDynamicData.csv\");\n",
    "\n",
    "data_static = pd.read_csv(r\"06.2.w_e_fcdStaticData.csv\")"
   ]
  },
  {
   "cell_type": "code",
   "execution_count": 2,
   "id": "db9165d4",
   "metadata": {},
   "outputs": [
    {
     "data": {
      "text/html": [
       "<div>\n",
       "<style scoped>\n",
       "    .dataframe tbody tr th:only-of-type {\n",
       "        vertical-align: middle;\n",
       "    }\n",
       "\n",
       "    .dataframe tbody tr th {\n",
       "        vertical-align: top;\n",
       "    }\n",
       "\n",
       "    .dataframe thead th {\n",
       "        text-align: right;\n",
       "    }\n",
       "</style>\n",
       "<table border=\"1\" class=\"dataframe\">\n",
       "  <thead>\n",
       "    <tr style=\"text-align: right;\">\n",
       "      <th></th>\n",
       "      <th>discoveryTime</th>\n",
       "      <th>segmentId</th>\n",
       "      <th>travelTime</th>\n",
       "      <th>coverage</th>\n",
       "    </tr>\n",
       "  </thead>\n",
       "  <tbody>\n",
       "    <tr>\n",
       "      <th>0</th>\n",
       "      <td>2021-03-03 00:00:00</td>\n",
       "      <td>131016</td>\n",
       "      <td>1576</td>\n",
       "      <td>10</td>\n",
       "    </tr>\n",
       "    <tr>\n",
       "      <th>1</th>\n",
       "      <td>2021-03-03 00:00:00</td>\n",
       "      <td>134879</td>\n",
       "      <td>1311</td>\n",
       "      <td>10</td>\n",
       "    </tr>\n",
       "    <tr>\n",
       "      <th>2</th>\n",
       "      <td>2021-03-03 00:00:00</td>\n",
       "      <td>135146</td>\n",
       "      <td>1539</td>\n",
       "      <td>10</td>\n",
       "    </tr>\n",
       "    <tr>\n",
       "      <th>3</th>\n",
       "      <td>2021-03-03 00:00:00</td>\n",
       "      <td>182928</td>\n",
       "      <td>1769</td>\n",
       "      <td>10</td>\n",
       "    </tr>\n",
       "    <tr>\n",
       "      <th>4</th>\n",
       "      <td>2021-03-03 00:00:00</td>\n",
       "      <td>182929</td>\n",
       "      <td>1769</td>\n",
       "      <td>10</td>\n",
       "    </tr>\n",
       "    <tr>\n",
       "      <th>...</th>\n",
       "      <td>...</td>\n",
       "      <td>...</td>\n",
       "      <td>...</td>\n",
       "      <td>...</td>\n",
       "    </tr>\n",
       "    <tr>\n",
       "      <th>88401</th>\n",
       "      <td>2021-03-05 23:55:00</td>\n",
       "      <td>7425668</td>\n",
       "      <td>3062</td>\n",
       "      <td>10</td>\n",
       "    </tr>\n",
       "    <tr>\n",
       "      <th>88402</th>\n",
       "      <td>2021-03-05 23:55:00</td>\n",
       "      <td>7425669</td>\n",
       "      <td>3062</td>\n",
       "      <td>10</td>\n",
       "    </tr>\n",
       "    <tr>\n",
       "      <th>88403</th>\n",
       "      <td>2021-03-05 23:55:00</td>\n",
       "      <td>7452950</td>\n",
       "      <td>3480</td>\n",
       "      <td>10</td>\n",
       "    </tr>\n",
       "    <tr>\n",
       "      <th>88404</th>\n",
       "      <td>2021-03-05 23:55:00</td>\n",
       "      <td>7452951</td>\n",
       "      <td>2036</td>\n",
       "      <td>10</td>\n",
       "    </tr>\n",
       "    <tr>\n",
       "      <th>88405</th>\n",
       "      <td>2021-03-05 23:55:00</td>\n",
       "      <td>7452952</td>\n",
       "      <td>2036</td>\n",
       "      <td>10</td>\n",
       "    </tr>\n",
       "  </tbody>\n",
       "</table>\n",
       "<p>263396 rows × 4 columns</p>\n",
       "</div>"
      ],
      "text/plain": [
       "             discoveryTime  segmentId  travelTime  coverage\n",
       "0      2021-03-03 00:00:00     131016        1576        10\n",
       "1      2021-03-03 00:00:00     134879        1311        10\n",
       "2      2021-03-03 00:00:00     135146        1539        10\n",
       "3      2021-03-03 00:00:00     182928        1769        10\n",
       "4      2021-03-03 00:00:00     182929        1769        10\n",
       "...                    ...        ...         ...       ...\n",
       "88401  2021-03-05 23:55:00    7425668        3062        10\n",
       "88402  2021-03-05 23:55:00    7425669        3062        10\n",
       "88403  2021-03-05 23:55:00    7452950        3480        10\n",
       "88404  2021-03-05 23:55:00    7452951        2036        10\n",
       "88405  2021-03-05 23:55:00    7452952        2036        10\n",
       "\n",
       "[263396 rows x 4 columns]"
      ]
     },
     "execution_count": 2,
     "metadata": {},
     "output_type": "execute_result"
    }
   ],
   "source": [
    "\n",
    "d1 = pd.concat((data_dynamic1,data_dynamic2),axis = 0)\n",
    "\n",
    "df = pd.concat((d1,data_dynamic3),axis = 0)\n",
    "\n",
    "df\n",
    "\n"
   ]
  },
  {
   "cell_type": "code",
   "execution_count": 3,
   "id": "6ddfaa81",
   "metadata": {},
   "outputs": [
    {
     "data": {
      "text/html": [
       "<div>\n",
       "<style scoped>\n",
       "    .dataframe tbody tr th:only-of-type {\n",
       "        vertical-align: middle;\n",
       "    }\n",
       "\n",
       "    .dataframe tbody tr th {\n",
       "        vertical-align: top;\n",
       "    }\n",
       "\n",
       "    .dataframe thead th {\n",
       "        text-align: right;\n",
       "    }\n",
       "</style>\n",
       "<table border=\"1\" class=\"dataframe\">\n",
       "  <thead>\n",
       "    <tr style=\"text-align: right;\">\n",
       "      <th></th>\n",
       "      <th>discoveryTime</th>\n",
       "      <th>segmentId</th>\n",
       "      <th>travelTime</th>\n",
       "      <th>lengthmm</th>\n",
       "      <th>speedLimitKph</th>\n",
       "      <th>speed</th>\n",
       "    </tr>\n",
       "  </thead>\n",
       "  <tbody>\n",
       "    <tr>\n",
       "      <th>0</th>\n",
       "      <td>2021-03-03 00:00:00</td>\n",
       "      <td>131016</td>\n",
       "      <td>0.000438</td>\n",
       "      <td>0.030651</td>\n",
       "      <td>70</td>\n",
       "      <td>70.014975</td>\n",
       "    </tr>\n",
       "    <tr>\n",
       "      <th>1</th>\n",
       "      <td>2021-03-03 00:00:00</td>\n",
       "      <td>134879</td>\n",
       "      <td>0.000364</td>\n",
       "      <td>0.025508</td>\n",
       "      <td>70</td>\n",
       "      <td>70.044851</td>\n",
       "    </tr>\n",
       "    <tr>\n",
       "      <th>2</th>\n",
       "      <td>2021-03-03 00:00:00</td>\n",
       "      <td>135146</td>\n",
       "      <td>0.000428</td>\n",
       "      <td>0.029935</td>\n",
       "      <td>70</td>\n",
       "      <td>70.023392</td>\n",
       "    </tr>\n",
       "    <tr>\n",
       "      <th>3</th>\n",
       "      <td>2021-03-03 00:00:00</td>\n",
       "      <td>182928</td>\n",
       "      <td>0.000491</td>\n",
       "      <td>0.034413</td>\n",
       "      <td>70</td>\n",
       "      <td>70.032108</td>\n",
       "    </tr>\n",
       "    <tr>\n",
       "      <th>4</th>\n",
       "      <td>2021-03-03 00:00:00</td>\n",
       "      <td>182929</td>\n",
       "      <td>0.000491</td>\n",
       "      <td>0.034413</td>\n",
       "      <td>70</td>\n",
       "      <td>70.032108</td>\n",
       "    </tr>\n",
       "    <tr>\n",
       "      <th>...</th>\n",
       "      <td>...</td>\n",
       "      <td>...</td>\n",
       "      <td>...</td>\n",
       "      <td>...</td>\n",
       "      <td>...</td>\n",
       "      <td>...</td>\n",
       "    </tr>\n",
       "    <tr>\n",
       "      <th>263391</th>\n",
       "      <td>2021-03-05 23:55:00</td>\n",
       "      <td>7425668</td>\n",
       "      <td>0.000851</td>\n",
       "      <td>0.042529</td>\n",
       "      <td>50</td>\n",
       "      <td>50.001437</td>\n",
       "    </tr>\n",
       "    <tr>\n",
       "      <th>263392</th>\n",
       "      <td>2021-03-05 23:55:00</td>\n",
       "      <td>7425669</td>\n",
       "      <td>0.000851</td>\n",
       "      <td>0.042529</td>\n",
       "      <td>50</td>\n",
       "      <td>50.001437</td>\n",
       "    </tr>\n",
       "    <tr>\n",
       "      <th>263393</th>\n",
       "      <td>2021-03-05 23:55:00</td>\n",
       "      <td>7452950</td>\n",
       "      <td>0.000967</td>\n",
       "      <td>0.048346</td>\n",
       "      <td>50</td>\n",
       "      <td>50.013103</td>\n",
       "    </tr>\n",
       "    <tr>\n",
       "      <th>263394</th>\n",
       "      <td>2021-03-05 23:55:00</td>\n",
       "      <td>7452951</td>\n",
       "      <td>0.000566</td>\n",
       "      <td>0.028279</td>\n",
       "      <td>50</td>\n",
       "      <td>50.002161</td>\n",
       "    </tr>\n",
       "    <tr>\n",
       "      <th>263395</th>\n",
       "      <td>2021-03-05 23:55:00</td>\n",
       "      <td>7452952</td>\n",
       "      <td>0.000566</td>\n",
       "      <td>0.028279</td>\n",
       "      <td>50</td>\n",
       "      <td>50.002161</td>\n",
       "    </tr>\n",
       "  </tbody>\n",
       "</table>\n",
       "<p>263396 rows × 6 columns</p>\n",
       "</div>"
      ],
      "text/plain": [
       "              discoveryTime  segmentId  travelTime  lengthmm  speedLimitKph  \\\n",
       "0       2021-03-03 00:00:00     131016    0.000438  0.030651             70   \n",
       "1       2021-03-03 00:00:00     134879    0.000364  0.025508             70   \n",
       "2       2021-03-03 00:00:00     135146    0.000428  0.029935             70   \n",
       "3       2021-03-03 00:00:00     182928    0.000491  0.034413             70   \n",
       "4       2021-03-03 00:00:00     182929    0.000491  0.034413             70   \n",
       "...                     ...        ...         ...       ...            ...   \n",
       "263391  2021-03-05 23:55:00    7425668    0.000851  0.042529             50   \n",
       "263392  2021-03-05 23:55:00    7425669    0.000851  0.042529             50   \n",
       "263393  2021-03-05 23:55:00    7452950    0.000967  0.048346             50   \n",
       "263394  2021-03-05 23:55:00    7452951    0.000566  0.028279             50   \n",
       "263395  2021-03-05 23:55:00    7452952    0.000566  0.028279             50   \n",
       "\n",
       "            speed  \n",
       "0       70.014975  \n",
       "1       70.044851  \n",
       "2       70.023392  \n",
       "3       70.032108  \n",
       "4       70.032108  \n",
       "...           ...  \n",
       "263391  50.001437  \n",
       "263392  50.001437  \n",
       "263393  50.013103  \n",
       "263394  50.002161  \n",
       "263395  50.002161  \n",
       "\n",
       "[263396 rows x 6 columns]"
      ]
     },
     "execution_count": 3,
     "metadata": {},
     "output_type": "execute_result"
    }
   ],
   "source": [
    "df1 = df.merge(data_static, on='segmentId', how='left') # how = 'left' ????????\n",
    "\n",
    "df1[\"travelTime\"] = df1[\"travelTime\"]*2.77777778 * (1/10000000)\n",
    "\n",
    "df1[\"lengthmm\"] = df1[\"lengthmm\"]*(1/1000000)\n",
    "\n",
    "df1 = df1.drop(\"coverage\", axis=1)\n",
    "\n",
    "\n",
    "df2= pd.DataFrame(df1)\n",
    "\n",
    "df2['speed'] = df1[\"lengthmm\"] / df1[\"travelTime\"]\n",
    "\n",
    "df2"
   ]
  },
  {
   "cell_type": "code",
   "execution_count": 4,
   "id": "7545a0f7",
   "metadata": {},
   "outputs": [
    {
     "data": {
      "text/plain": [
       "'df2.set_index(\"discoveryTime\",inplace=True)\\ndf2.index=pd.to_datetime(df2.index)\\ndf2\\n'"
      ]
     },
     "execution_count": 4,
     "metadata": {},
     "output_type": "execute_result"
    }
   ],
   "source": [
    "\"\"\"df2.set_index(\"discoveryTime\",inplace=True)\n",
    "df2.index=pd.to_datetime(df2.index)\n",
    "df2\n",
    "\"\"\""
   ]
  },
  {
   "cell_type": "code",
   "execution_count": 5,
   "id": "f5482332",
   "metadata": {},
   "outputs": [
    {
     "data": {
      "text/html": [
       "<div>\n",
       "<style scoped>\n",
       "    .dataframe tbody tr th:only-of-type {\n",
       "        vertical-align: middle;\n",
       "    }\n",
       "\n",
       "    .dataframe tbody tr th {\n",
       "        vertical-align: top;\n",
       "    }\n",
       "\n",
       "    .dataframe thead th {\n",
       "        text-align: right;\n",
       "    }\n",
       "</style>\n",
       "<table border=\"1\" class=\"dataframe\">\n",
       "  <thead>\n",
       "    <tr style=\"text-align: right;\">\n",
       "      <th></th>\n",
       "      <th>speed</th>\n",
       "    </tr>\n",
       "    <tr>\n",
       "      <th>discoveryTime</th>\n",
       "      <th></th>\n",
       "    </tr>\n",
       "  </thead>\n",
       "  <tbody>\n",
       "    <tr>\n",
       "      <th>2021-03-03 00:00:00</th>\n",
       "      <td>64.138875</td>\n",
       "    </tr>\n",
       "    <tr>\n",
       "      <th>2021-03-03 00:05:00</th>\n",
       "      <td>64.211206</td>\n",
       "    </tr>\n",
       "    <tr>\n",
       "      <th>2021-03-03 00:10:00</th>\n",
       "      <td>64.821525</td>\n",
       "    </tr>\n",
       "    <tr>\n",
       "      <th>2021-03-03 00:15:00</th>\n",
       "      <td>64.954536</td>\n",
       "    </tr>\n",
       "    <tr>\n",
       "      <th>2021-03-03 00:20:00</th>\n",
       "      <td>65.083650</td>\n",
       "    </tr>\n",
       "    <tr>\n",
       "      <th>...</th>\n",
       "      <td>...</td>\n",
       "    </tr>\n",
       "    <tr>\n",
       "      <th>2021-03-05 23:35:00</th>\n",
       "      <td>64.150973</td>\n",
       "    </tr>\n",
       "    <tr>\n",
       "      <th>2021-03-05 23:40:00</th>\n",
       "      <td>64.394271</td>\n",
       "    </tr>\n",
       "    <tr>\n",
       "      <th>2021-03-05 23:45:00</th>\n",
       "      <td>64.689910</td>\n",
       "    </tr>\n",
       "    <tr>\n",
       "      <th>2021-03-05 23:50:00</th>\n",
       "      <td>64.954801</td>\n",
       "    </tr>\n",
       "    <tr>\n",
       "      <th>2021-03-05 23:55:00</th>\n",
       "      <td>64.497221</td>\n",
       "    </tr>\n",
       "  </tbody>\n",
       "</table>\n",
       "<p>851 rows × 1 columns</p>\n",
       "</div>"
      ],
      "text/plain": [
       "                         speed\n",
       "discoveryTime                 \n",
       "2021-03-03 00:00:00  64.138875\n",
       "2021-03-03 00:05:00  64.211206\n",
       "2021-03-03 00:10:00  64.821525\n",
       "2021-03-03 00:15:00  64.954536\n",
       "2021-03-03 00:20:00  65.083650\n",
       "...                        ...\n",
       "2021-03-05 23:35:00  64.150973\n",
       "2021-03-05 23:40:00  64.394271\n",
       "2021-03-05 23:45:00  64.689910\n",
       "2021-03-05 23:50:00  64.954801\n",
       "2021-03-05 23:55:00  64.497221\n",
       "\n",
       "[851 rows x 1 columns]"
      ]
     },
     "execution_count": 5,
     "metadata": {},
     "output_type": "execute_result"
    }
   ],
   "source": [
    "\n",
    "x_data = df2[[\"discoveryTime\",\"speed\"]]\n",
    "\n",
    "x_data = x_data.groupby(by=\"discoveryTime\").mean()\n",
    "x_data"
   ]
  },
  {
   "cell_type": "code",
   "execution_count": 6,
   "id": "fa9a1e8a",
   "metadata": {},
   "outputs": [
    {
     "data": {
      "text/plain": [
       "<AxesSubplot:xlabel='segmentId'>"
      ]
     },
     "execution_count": 6,
     "metadata": {},
     "output_type": "execute_result"
    },
    {
     "data": {
      "image/png": "[encoded data removed]",
      "text/plain": [
       "<Figure size 432x288 with 1 Axes>"
      ]
     },
     "metadata": {
      "needs_background": "light"
     },
     "output_type": "display_data"
    }
   ],
   "source": [
    "x_data1 = df2[[\"segmentId\",\"speedLimitKph\",\"speed\"]]\n",
    "\n",
    "x_data2 = x_data1.groupby(by=\"segmentId\").mean()\n",
    "x_data2.plot()\n"
   ]
  },
  {
   "cell_type": "code",
   "execution_count": 7,
   "id": "ea31ecee",
   "metadata": {},
   "outputs": [],
   "source": [
    "#x_data.set_index(\"discoveryTime\",inplace=True)\n",
    "x_data.index=pd.to_datetime(x_data.index)\n",
    "x_data.index = pd.DatetimeIndex(x_data.index).to_period('5min')\n",
    "x_data.index = x_data.index.to_timestamp(freq ='5min')"
   ]
  },
  {
   "cell_type": "code",
   "execution_count": 8,
   "id": "4dd9eee6",
   "metadata": {},
   "outputs": [
    {
     "data": {
      "text/plain": [
       "{'adf': -6.731259850622079,\n",
       " 'pvalue': 3.291537103281233e-09,\n",
       " 'usedlag': 4,\n",
       " 'nobs': 846,\n",
       " 'criticalvalues': {'1%': -3.4381032536542913,\n",
       "  '5%': -2.8649624121419746,\n",
       "  '10%': -2.5685923644574107},\n",
       " 'icbest': 2152.9385198766518}"
      ]
     },
     "execution_count": 8,
     "metadata": {},
     "output_type": "execute_result"
    }
   ],
   "source": [
    "from statsmodels.tsa.stattools import adfuller\n",
    "\n",
    "\n",
    "result=adfuller(x_data['speed'])\n",
    "\n",
    "\n",
    "dict(zip(['adf', 'pvalue', 'usedlag', 'nobs', 'critical' 'values', 'icbest'],result))"
   ]
  },
  {
   "cell_type": "code",
   "execution_count": 9,
   "id": "2d3552ed",
   "metadata": {},
   "outputs": [],
   "source": [
    "x_data['1difference']=x_data['speed']-x_data['speed'].shift(1)"
   ]
  },
  {
   "cell_type": "code",
   "execution_count": 10,
   "id": "b2cd31e4",
   "metadata": {},
   "outputs": [
    {
     "data": {
      "text/plain": [
       "<AxesSubplot:xlabel='discoveryTime'>"
      ]
     },
     "execution_count": 10,
     "metadata": {},
     "output_type": "execute_result"
    },
    {
     "data": {
      "image/png": "[encoded data removed]",
      "text/plain": [
       "<Figure size 432x288 with 1 Axes>"
      ]
     },
     "metadata": {
      "needs_background": "light"
     },
     "output_type": "display_data"
    }
   ],
   "source": [
    "x_data['1difference'].plot()"
   ]
  },
  {
   "cell_type": "code",
   "execution_count": 11,
   "id": "75ecda7a",
   "metadata": {},
   "outputs": [
    {
     "data": {
      "text/plain": [
       "(-8.468412572304974,\n",
       " 1.500491800701707e-13,\n",
       " 11,\n",
       " 838,\n",
       " {'1%': -3.4381774989729816,\n",
       "  '5%': -2.8649951426291,\n",
       "  '10%': -2.568609799556849},\n",
       " 2179.264898067715)"
      ]
     },
     "execution_count": 11,
     "metadata": {},
     "output_type": "execute_result"
    }
   ],
   "source": [
    "result=adfuller(x_data['1difference'].dropna())\n",
    "result"
   ]
  },
  {
   "cell_type": "code",
   "execution_count": 12,
   "id": "bd346cb6",
   "metadata": {},
   "outputs": [
    {
     "data": {
      "text/plain": [
       "<AxesSubplot:xlabel='discoveryTime'>"
      ]
     },
     "execution_count": 12,
     "metadata": {},
     "output_type": "execute_result"
    },
    {
     "data": {
      "image/png": "[encoded data removed]",
      "text/plain": [
       "<Figure size 432x288 with 1 Axes>"
      ]
     },
     "metadata": {
      "needs_background": "light"
     },
     "output_type": "display_data"
    }
   ],
   "source": [
    "x_data['2difference']=x_data['1difference']-x_data['1difference'].shift(1)\n",
    "x_data['2difference'].plot()"
   ]
  },
  {
   "cell_type": "code",
   "execution_count": 13,
   "id": "ff44373d",
   "metadata": {},
   "outputs": [
    {
     "data": {
      "text/plain": [
       "(-10.464101121877146,\n",
       " 1.3355441535821057e-18,\n",
       " 20,\n",
       " 828,\n",
       " {'1%': -3.438272329479064,\n",
       "  '5%': -2.8650369467745573,\n",
       "  '10%': -2.568632068251301},\n",
       " 2225.719989467276)"
      ]
     },
     "execution_count": 13,
     "metadata": {},
     "output_type": "execute_result"
    }
   ],
   "source": [
    "result=adfuller(x_data['2difference'].dropna())\n",
    "result"
   ]
  },
  {
   "cell_type": "code",
   "execution_count": 14,
   "id": "d274106c",
   "metadata": {},
   "outputs": [
    {
     "data": {
      "text/html": [
       "<div>\n",
       "<style scoped>\n",
       "    .dataframe tbody tr th:only-of-type {\n",
       "        vertical-align: middle;\n",
       "    }\n",
       "\n",
       "    .dataframe tbody tr th {\n",
       "        vertical-align: top;\n",
       "    }\n",
       "\n",
       "    .dataframe thead th {\n",
       "        text-align: right;\n",
       "    }\n",
       "</style>\n",
       "<table border=\"1\" class=\"dataframe\">\n",
       "  <thead>\n",
       "    <tr style=\"text-align: right;\">\n",
       "      <th></th>\n",
       "      <th>speed</th>\n",
       "      <th>1difference</th>\n",
       "      <th>2difference</th>\n",
       "    </tr>\n",
       "    <tr>\n",
       "      <th>discoveryTime</th>\n",
       "      <th></th>\n",
       "      <th></th>\n",
       "      <th></th>\n",
       "    </tr>\n",
       "  </thead>\n",
       "  <tbody>\n",
       "    <tr>\n",
       "      <th>2021-03-03 00:00:00</th>\n",
       "      <td>64.138875</td>\n",
       "      <td>NaN</td>\n",
       "      <td>NaN</td>\n",
       "    </tr>\n",
       "    <tr>\n",
       "      <th>2021-03-03 00:05:00</th>\n",
       "      <td>64.211206</td>\n",
       "      <td>0.072331</td>\n",
       "      <td>NaN</td>\n",
       "    </tr>\n",
       "    <tr>\n",
       "      <th>2021-03-03 00:10:00</th>\n",
       "      <td>64.821525</td>\n",
       "      <td>0.610320</td>\n",
       "      <td>0.537989</td>\n",
       "    </tr>\n",
       "    <tr>\n",
       "      <th>2021-03-03 00:15:00</th>\n",
       "      <td>64.954536</td>\n",
       "      <td>0.133011</td>\n",
       "      <td>-0.477308</td>\n",
       "    </tr>\n",
       "    <tr>\n",
       "      <th>2021-03-03 00:20:00</th>\n",
       "      <td>65.083650</td>\n",
       "      <td>0.129113</td>\n",
       "      <td>-0.003898</td>\n",
       "    </tr>\n",
       "    <tr>\n",
       "      <th>...</th>\n",
       "      <td>...</td>\n",
       "      <td>...</td>\n",
       "      <td>...</td>\n",
       "    </tr>\n",
       "    <tr>\n",
       "      <th>2021-03-05 23:35:00</th>\n",
       "      <td>64.150973</td>\n",
       "      <td>-0.444449</td>\n",
       "      <td>-0.195094</td>\n",
       "    </tr>\n",
       "    <tr>\n",
       "      <th>2021-03-05 23:40:00</th>\n",
       "      <td>64.394271</td>\n",
       "      <td>0.243299</td>\n",
       "      <td>0.687747</td>\n",
       "    </tr>\n",
       "    <tr>\n",
       "      <th>2021-03-05 23:45:00</th>\n",
       "      <td>64.689910</td>\n",
       "      <td>0.295639</td>\n",
       "      <td>0.052340</td>\n",
       "    </tr>\n",
       "    <tr>\n",
       "      <th>2021-03-05 23:50:00</th>\n",
       "      <td>64.954801</td>\n",
       "      <td>0.264891</td>\n",
       "      <td>-0.030748</td>\n",
       "    </tr>\n",
       "    <tr>\n",
       "      <th>2021-03-05 23:55:00</th>\n",
       "      <td>64.497221</td>\n",
       "      <td>-0.457580</td>\n",
       "      <td>-0.722471</td>\n",
       "    </tr>\n",
       "  </tbody>\n",
       "</table>\n",
       "<p>851 rows × 3 columns</p>\n",
       "</div>"
      ],
      "text/plain": [
       "                         speed  1difference  2difference\n",
       "discoveryTime                                           \n",
       "2021-03-03 00:00:00  64.138875          NaN          NaN\n",
       "2021-03-03 00:05:00  64.211206     0.072331          NaN\n",
       "2021-03-03 00:10:00  64.821525     0.610320     0.537989\n",
       "2021-03-03 00:15:00  64.954536     0.133011    -0.477308\n",
       "2021-03-03 00:20:00  65.083650     0.129113    -0.003898\n",
       "...                        ...          ...          ...\n",
       "2021-03-05 23:35:00  64.150973    -0.444449    -0.195094\n",
       "2021-03-05 23:40:00  64.394271     0.243299     0.687747\n",
       "2021-03-05 23:45:00  64.689910     0.295639     0.052340\n",
       "2021-03-05 23:50:00  64.954801     0.264891    -0.030748\n",
       "2021-03-05 23:55:00  64.497221    -0.457580    -0.722471\n",
       "\n",
       "[851 rows x 3 columns]"
      ]
     },
     "execution_count": 14,
     "metadata": {},
     "output_type": "execute_result"
    }
   ],
   "source": [
    "x_data"
   ]
  },
  {
   "cell_type": "code",
   "execution_count": 15,
   "id": "9d86b309",
   "metadata": {},
   "outputs": [
    {
     "data": {
      "image/png": "[encoded data removed]",
      "text/plain": [
       "<Figure size 432x288 with 1 Axes>"
      ]
     },
     "metadata": {
      "needs_background": "light"
     },
     "output_type": "display_data"
    }
   ],
   "source": [
    "x_data['Seasonal_Difference']=x_data['speed']-x_data['speed'].shift(288)\n",
    "\n",
    "\n",
    "ax=x_data['Seasonal_Difference'].plot()"
   ]
  },
  {
   "cell_type": "code",
   "execution_count": 16,
   "id": "701618a1",
   "metadata": {},
   "outputs": [
    {
     "data": {
      "text/plain": [
       "{'adf': -6.171138439460027,\n",
       " 'pvalue': 6.800840604334454e-08,\n",
       " 'usedlag': 5,\n",
       " 'nobs': 557,\n",
       " 'criticalvalues': {'1%': -3.4421447800270673,\n",
       "  '5%': -2.8667429272780858,\n",
       "  '10%': -2.5695409929766093},\n",
       " 'icbest': 1726.210552474035}"
      ]
     },
     "execution_count": 16,
     "metadata": {},
     "output_type": "execute_result"
    }
   ],
   "source": [
    "result=adfuller((x_data['Seasonal_Difference']).dropna())\n",
    "dict(zip(['adf', 'pvalue', 'usedlag', 'nobs', 'critical' 'values', 'icbest'],result))"
   ]
  },
  {
   "cell_type": "code",
   "execution_count": 17,
   "id": "3600e5cc",
   "metadata": {},
   "outputs": [],
   "source": [
    "x_data['Seasonal_Difference1']=x_data['Seasonal_Difference']-x_data['Seasonal_Difference'].shift(288)"
   ]
  },
  {
   "cell_type": "code",
   "execution_count": 18,
   "id": "6725f68a",
   "metadata": {},
   "outputs": [
    {
     "data": {
      "text/plain": [
       "(-4.066963531204109,\n",
       " 0.00109773461918407,\n",
       " 5,\n",
       " 269,\n",
       " {'1%': -3.4548957220044336,\n",
       "  '5%': -2.8723451788613157,\n",
       "  '10%': -2.572527778361272},\n",
       " 1082.7346657981102)"
      ]
     },
     "execution_count": 18,
     "metadata": {},
     "output_type": "execute_result"
    }
   ],
   "source": [
    "result=adfuller(x_data['Seasonal_Difference1'].dropna())\n",
    "result"
   ]
  },
  {
   "cell_type": "code",
   "execution_count": 19,
   "id": "d2f182c3",
   "metadata": {},
   "outputs": [
    {
     "data": {
      "image/png": "[encoded data removed]",
      "text/plain": [
       "<Figure size 432x288 with 1 Axes>"
      ]
     },
     "metadata": {
      "needs_background": "light"
     },
     "output_type": "display_data"
    },
    {
     "data": {
      "image/png": "[encoded data removed]",
      "text/plain": [
       "<Figure size 432x288 with 1 Axes>"
      ]
     },
     "metadata": {
      "needs_background": "light"
     },
     "output_type": "display_data"
    }
   ],
   "source": [
    "\n",
    "from statsmodels.graphics.tsaplots import plot_acf, plot_pacf\n",
    "\n",
    "fig1=plot_acf(x_data['2difference'].dropna())\n",
    "\n",
    "fig2=plot_pacf(x_data['2difference'].dropna())\n",
    "\n",
    "\n",
    "\n"
   ]
  },
  {
   "cell_type": "code",
   "execution_count": 20,
   "id": "33d066ec",
   "metadata": {},
   "outputs": [
    {
     "data": {
      "image/png": "[encoded data removed]",
      "text/plain": [
       "<Figure size 432x288 with 1 Axes>"
      ]
     },
     "metadata": {
      "needs_background": "light"
     },
     "output_type": "display_data"
    },
    {
     "data": {
      "image/png": "[encoded data removed]",
      "text/plain": [
       "<Figure size 432x288 with 1 Axes>"
      ]
     },
     "metadata": {
      "needs_background": "light"
     },
     "output_type": "display_data"
    }
   ],
   "source": [
    "fig1=plot_acf(x_data['Seasonal_Difference1'].dropna())\n",
    "\n",
    "fig2=plot_pacf(x_data['Seasonal_Difference1'].dropna())"
   ]
  },
  {
   "cell_type": "code",
   "execution_count": 21,
   "id": "d9a56b2a",
   "metadata": {},
   "outputs": [],
   "source": [
    "x_data.index = pd.DatetimeIndex(x_data.index).to_period('5min')\n",
    "\n"
   ]
  },
  {
   "cell_type": "code",
   "execution_count": 22,
   "id": "00c26c98",
   "metadata": {},
   "outputs": [],
   "source": [
    "\"\"\"\n",
    "mod = sm.tsa.statespace.SARIMAX(x_data.riders, trend='n', order=(1,2,1), seasonal_order=(0,1,0,288))\n",
    "results = mod.fit()\n",
    "print results.summary()\n",
    "\"\"\"\n",
    "\n",
    "\n",
    "\n",
    "from statsmodels.tsa.statespace.sarimax import SARIMAX\n",
    "model=SARIMAX(x_data['speed'],order=(0,2,0),seasonal_order=(0, 1, 0, 288))\n",
    "result=model.fit()\n",
    "\n",
    "\n"
   ]
  },
  {
   "cell_type": "code",
   "execution_count": 23,
   "id": "deb48d02",
   "metadata": {},
   "outputs": [],
   "source": [
    "#print(result.summary())"
   ]
  },
  {
   "cell_type": "code",
   "execution_count": 24,
   "id": "e0473935",
   "metadata": {},
   "outputs": [],
   "source": [
    "#result.resid.plot(kind='kde')"
   ]
  },
  {
   "cell_type": "code",
   "execution_count": 25,
   "id": "2ed7063d",
   "metadata": {},
   "outputs": [],
   "source": [
    "x_data.index = x_data.index.to_timestamp(freq ='5min')"
   ]
  },
  {
   "cell_type": "code",
   "execution_count": 26,
   "id": "7061092d",
   "metadata": {},
   "outputs": [],
   "source": [
    "from pandas.tseries.offsets import DateOffset\n",
    "\n",
    "\n",
    "new_dates=[x_data.index[-1]+ DateOffset(minutes=x) for x in range(5,5000,5)]\n",
    "\n",
    "df_pred=pd.DataFrame(index=new_dates, columns =x_data.columns)\n",
    "\n",
    "\n",
    "df_pred1 = pd.concat([x_data,df_pred],axis = 0)"
   ]
  },
  {
   "cell_type": "code",
   "execution_count": null,
   "id": "974a24a5",
   "metadata": {},
   "outputs": [],
   "source": []
  },
  {
   "cell_type": "code",
   "execution_count": 27,
   "id": "a120d81a",
   "metadata": {},
   "outputs": [],
   "source": [
    "df_pred1.index = pd.DatetimeIndex(df_pred1.index).to_period('5min')\n",
    "\n"
   ]
  },
  {
   "cell_type": "code",
   "execution_count": 28,
   "id": "f9d0039c",
   "metadata": {},
   "outputs": [],
   "source": [
    "\n",
    "\n",
    "#df_pred.index = df_pred.index.to_timestamp(freq ='5min')\n"
   ]
  },
  {
   "cell_type": "code",
   "execution_count": 30,
   "id": "70e50f2d",
   "metadata": {},
   "outputs": [
    {
     "data": {
      "text/plain": [
       "<AxesSubplot:>"
      ]
     },
     "execution_count": 30,
     "metadata": {},
     "output_type": "execute_result"
    },
    {
     "data": {
      "image/png": "[encoded data removed]",
      "text/plain": [
       "<Figure size 1080x360 with 1 Axes>"
      ]
     },
     "metadata": {
      "needs_background": "light"
     },
     "output_type": "display_data"
    }
   ],
   "source": [
    "\n",
    "\n",
    "df_pred1['predictions'] = result.predict(start=20,end=2000)\n",
    "df_pred1[[\"speed\",\"predictions\"]].plot(figsize=(15,5))\n",
    "\n"
   ]
  },
  {
   "cell_type": "code",
   "execution_count": 30,
   "id": "f1a5fac1",
   "metadata": {},
   "outputs": [
    {
     "data": {
      "text/html": [
       "<div>\n",
       "<style scoped>\n",
       "    .dataframe tbody tr th:only-of-type {\n",
       "        vertical-align: middle;\n",
       "    }\n",
       "\n",
       "    .dataframe tbody tr th {\n",
       "        vertical-align: top;\n",
       "    }\n",
       "\n",
       "    .dataframe thead th {\n",
       "        text-align: right;\n",
       "    }\n",
       "</style>\n",
       "<table border=\"1\" class=\"dataframe\">\n",
       "  <thead>\n",
       "    <tr style=\"text-align: right;\">\n",
       "      <th></th>\n",
       "      <th>speed</th>\n",
       "      <th>1difference</th>\n",
       "      <th>2difference</th>\n",
       "      <th>Seasonal_Difference</th>\n",
       "      <th>Seasonal_Difference1</th>\n",
       "      <th>predictions</th>\n",
       "    </tr>\n",
       "  </thead>\n",
       "  <tbody>\n",
       "    <tr>\n",
       "      <th>2021-03-03 00:00:00</th>\n",
       "      <td>64.138875</td>\n",
       "      <td>NaN</td>\n",
       "      <td>NaN</td>\n",
       "      <td>NaN</td>\n",
       "      <td>NaN</td>\n",
       "      <td>NaN</td>\n",
       "    </tr>\n",
       "    <tr>\n",
       "      <th>2021-03-03 00:05:00</th>\n",
       "      <td>64.211206</td>\n",
       "      <td>0.072331</td>\n",
       "      <td>NaN</td>\n",
       "      <td>NaN</td>\n",
       "      <td>NaN</td>\n",
       "      <td>NaN</td>\n",
       "    </tr>\n",
       "    <tr>\n",
       "      <th>2021-03-03 00:10:00</th>\n",
       "      <td>64.821525</td>\n",
       "      <td>0.610320</td>\n",
       "      <td>0.537989</td>\n",
       "      <td>NaN</td>\n",
       "      <td>NaN</td>\n",
       "      <td>NaN</td>\n",
       "    </tr>\n",
       "    <tr>\n",
       "      <th>2021-03-03 00:15:00</th>\n",
       "      <td>64.954536</td>\n",
       "      <td>0.133011</td>\n",
       "      <td>-0.477308</td>\n",
       "      <td>NaN</td>\n",
       "      <td>NaN</td>\n",
       "      <td>NaN</td>\n",
       "    </tr>\n",
       "    <tr>\n",
       "      <th>2021-03-03 00:20:00</th>\n",
       "      <td>65.083650</td>\n",
       "      <td>0.129113</td>\n",
       "      <td>-0.003898</td>\n",
       "      <td>NaN</td>\n",
       "      <td>NaN</td>\n",
       "      <td>NaN</td>\n",
       "    </tr>\n",
       "    <tr>\n",
       "      <th>...</th>\n",
       "      <td>...</td>\n",
       "      <td>...</td>\n",
       "      <td>...</td>\n",
       "      <td>...</td>\n",
       "      <td>...</td>\n",
       "      <td>...</td>\n",
       "    </tr>\n",
       "    <tr>\n",
       "      <th>2021-03-09 10:50:00</th>\n",
       "      <td>NaN</td>\n",
       "      <td>NaN</td>\n",
       "      <td>NaN</td>\n",
       "      <td>NaN</td>\n",
       "      <td>NaN</td>\n",
       "      <td>NaN</td>\n",
       "    </tr>\n",
       "    <tr>\n",
       "      <th>2021-03-09 10:55:00</th>\n",
       "      <td>NaN</td>\n",
       "      <td>NaN</td>\n",
       "      <td>NaN</td>\n",
       "      <td>NaN</td>\n",
       "      <td>NaN</td>\n",
       "      <td>NaN</td>\n",
       "    </tr>\n",
       "    <tr>\n",
       "      <th>2021-03-09 11:00:00</th>\n",
       "      <td>NaN</td>\n",
       "      <td>NaN</td>\n",
       "      <td>NaN</td>\n",
       "      <td>NaN</td>\n",
       "      <td>NaN</td>\n",
       "      <td>NaN</td>\n",
       "    </tr>\n",
       "    <tr>\n",
       "      <th>2021-03-09 11:05:00</th>\n",
       "      <td>NaN</td>\n",
       "      <td>NaN</td>\n",
       "      <td>NaN</td>\n",
       "      <td>NaN</td>\n",
       "      <td>NaN</td>\n",
       "      <td>NaN</td>\n",
       "    </tr>\n",
       "    <tr>\n",
       "      <th>2021-03-09 11:10:00</th>\n",
       "      <td>NaN</td>\n",
       "      <td>NaN</td>\n",
       "      <td>NaN</td>\n",
       "      <td>NaN</td>\n",
       "      <td>NaN</td>\n",
       "      <td>NaN</td>\n",
       "    </tr>\n",
       "  </tbody>\n",
       "</table>\n",
       "<p>1850 rows × 6 columns</p>\n",
       "</div>"
      ],
      "text/plain": [
       "                         speed  1difference  2difference  Seasonal_Difference  \\\n",
       "2021-03-03 00:00:00  64.138875          NaN          NaN                  NaN   \n",
       "2021-03-03 00:05:00  64.211206     0.072331          NaN                  NaN   \n",
       "2021-03-03 00:10:00  64.821525     0.610320     0.537989                  NaN   \n",
       "2021-03-03 00:15:00  64.954536     0.133011    -0.477308                  NaN   \n",
       "2021-03-03 00:20:00  65.083650     0.129113    -0.003898                  NaN   \n",
       "...                        ...          ...          ...                  ...   \n",
       "2021-03-09 10:50:00        NaN          NaN          NaN                  NaN   \n",
       "2021-03-09 10:55:00        NaN          NaN          NaN                  NaN   \n",
       "2021-03-09 11:00:00        NaN          NaN          NaN                  NaN   \n",
       "2021-03-09 11:05:00        NaN          NaN          NaN                  NaN   \n",
       "2021-03-09 11:10:00        NaN          NaN          NaN                  NaN   \n",
       "\n",
       "                     Seasonal_Difference1  predictions  \n",
       "2021-03-03 00:00:00                   NaN          NaN  \n",
       "2021-03-03 00:05:00                   NaN          NaN  \n",
       "2021-03-03 00:10:00                   NaN          NaN  \n",
       "2021-03-03 00:15:00                   NaN          NaN  \n",
       "2021-03-03 00:20:00                   NaN          NaN  \n",
       "...                                   ...          ...  \n",
       "2021-03-09 10:50:00                   NaN          NaN  \n",
       "2021-03-09 10:55:00                   NaN          NaN  \n",
       "2021-03-09 11:00:00                   NaN          NaN  \n",
       "2021-03-09 11:05:00                   NaN          NaN  \n",
       "2021-03-09 11:10:00                   NaN          NaN  \n",
       "\n",
       "[1850 rows x 6 columns]"
      ]
     },
     "execution_count": 30,
     "metadata": {},
     "output_type": "execute_result"
    }
   ],
   "source": [
    "df_pred1.head(2000)"
   ]
  },
  {
   "cell_type": "code",
   "execution_count": null,
   "id": "d1fad33a",
   "metadata": {},
   "outputs": [],
   "source": []
  },
  {
   "cell_type": "code",
   "execution_count": null,
   "id": "6514001b",
   "metadata": {},
   "outputs": [],
   "source": []
  },
  {
   "cell_type": "code",
   "execution_count": null,
   "id": "4867b78a",
   "metadata": {},
   "outputs": [],
   "source": []
  },
  {
   "cell_type": "code",
   "execution_count": null,
   "id": "5765f2a4",
   "metadata": {},
   "outputs": [],
   "source": []
  },
  {
   "cell_type": "code",
   "execution_count": null,
   "id": "4b9255b4",
   "metadata": {},
   "outputs": [],
   "source": []
  },
  {
   "cell_type": "code",
   "execution_count": null,
   "id": "0a862f35",
   "metadata": {},
   "outputs": [],
   "source": []
  },
  {
   "cell_type": "code",
   "execution_count": 2,
   "id": "ff7b2be0",
   "metadata": {},
   "outputs": [],
   "source": [
    "data_dynamic1 = pd.read_csv(r\"06.2.w_e_030321_fcdDynamicData.csv\")\n",
    "data_dynamic2 = pd.read_csv(r\"06.2.w_e_040321_fcdDynamicData.csv\")\n",
    "data_dynamic3 = pd.read_csv(r\"06.2.w_e_050321_fcdDynamicData.csv\")"
   ]
  },
  {
   "cell_type": "code",
   "execution_count": null,
   "id": "75a48098",
   "metadata": {},
   "outputs": [],
   "source": []
  },
  {
   "cell_type": "code",
   "execution_count": 3,
   "id": "ee226acf",
   "metadata": {},
   "outputs": [],
   "source": [
    "df1 = data_dynamic1.merge(data_static, on='segmentId', how='left') # how = 'left' ????????\n",
    "df2 = data_dynamic2.merge(data_static, on='segmentId', how='left') # how = 'left' ????????\n",
    "df3 = data_dynamic3.merge(data_static, on='segmentId', how='left') # how = 'left' ????????"
   ]
  },
  {
   "cell_type": "code",
   "execution_count": 4,
   "id": "e6e455cd",
   "metadata": {},
   "outputs": [],
   "source": [
    "from sklearn import preprocessing\n",
    "le1 = preprocessing.LabelEncoder()\n",
    "\n",
    "df1.sort_values(by = \"segmentId\", ascending=True)\n",
    "\n",
    "df1[\"segmentId\"] = le1.fit_transform(df1[\"segmentId\"])\n",
    "\n",
    "\n",
    "df2.sort_values(by = \"segmentId\", ascending=True)\n",
    "\n",
    "df2[\"segmentId\"] = le1.fit_transform(df2[\"segmentId\"])\n",
    "\n",
    "df3.sort_values(by = \"segmentId\", ascending=True)\n",
    "\n",
    "df3[\"segmentId\"] = le1.fit_transform(df3[\"segmentId\"])\n",
    "\n",
    "\n"
   ]
  },
  {
   "cell_type": "code",
   "execution_count": 5,
   "id": "8ea205f3",
   "metadata": {},
   "outputs": [
    {
     "data": {
      "text/html": [
       "<div>\n",
       "<style scoped>\n",
       "    .dataframe tbody tr th:only-of-type {\n",
       "        vertical-align: middle;\n",
       "    }\n",
       "\n",
       "    .dataframe tbody tr th {\n",
       "        vertical-align: top;\n",
       "    }\n",
       "\n",
       "    .dataframe thead th {\n",
       "        text-align: right;\n",
       "    }\n",
       "</style>\n",
       "<table border=\"1\" class=\"dataframe\">\n",
       "  <thead>\n",
       "    <tr style=\"text-align: right;\">\n",
       "      <th></th>\n",
       "      <th>discoveryTime</th>\n",
       "      <th>segmentId</th>\n",
       "      <th>travelTime</th>\n",
       "      <th>coverage</th>\n",
       "      <th>lengthmm</th>\n",
       "      <th>speedLimitKph</th>\n",
       "    </tr>\n",
       "  </thead>\n",
       "  <tbody>\n",
       "    <tr>\n",
       "      <th>0</th>\n",
       "      <td>2021-03-03 00:00:00</td>\n",
       "      <td>0</td>\n",
       "      <td>1576</td>\n",
       "      <td>10</td>\n",
       "      <td>30651</td>\n",
       "      <td>70</td>\n",
       "    </tr>\n",
       "    <tr>\n",
       "      <th>1</th>\n",
       "      <td>2021-03-03 00:00:00</td>\n",
       "      <td>1</td>\n",
       "      <td>1311</td>\n",
       "      <td>10</td>\n",
       "      <td>25508</td>\n",
       "      <td>70</td>\n",
       "    </tr>\n",
       "    <tr>\n",
       "      <th>2</th>\n",
       "      <td>2021-03-03 00:00:00</td>\n",
       "      <td>2</td>\n",
       "      <td>1539</td>\n",
       "      <td>10</td>\n",
       "      <td>29935</td>\n",
       "      <td>70</td>\n",
       "    </tr>\n",
       "    <tr>\n",
       "      <th>3</th>\n",
       "      <td>2021-03-03 00:00:00</td>\n",
       "      <td>3</td>\n",
       "      <td>1769</td>\n",
       "      <td>10</td>\n",
       "      <td>34413</td>\n",
       "      <td>70</td>\n",
       "    </tr>\n",
       "    <tr>\n",
       "      <th>4</th>\n",
       "      <td>2021-03-03 00:00:00</td>\n",
       "      <td>4</td>\n",
       "      <td>1769</td>\n",
       "      <td>10</td>\n",
       "      <td>34413</td>\n",
       "      <td>70</td>\n",
       "    </tr>\n",
       "    <tr>\n",
       "      <th>...</th>\n",
       "      <td>...</td>\n",
       "      <td>...</td>\n",
       "      <td>...</td>\n",
       "      <td>...</td>\n",
       "      <td>...</td>\n",
       "      <td>...</td>\n",
       "    </tr>\n",
       "    <tr>\n",
       "      <th>88401</th>\n",
       "      <td>2021-03-05 23:55:00</td>\n",
       "      <td>302</td>\n",
       "      <td>3062</td>\n",
       "      <td>10</td>\n",
       "      <td>42529</td>\n",
       "      <td>50</td>\n",
       "    </tr>\n",
       "    <tr>\n",
       "      <th>88402</th>\n",
       "      <td>2021-03-05 23:55:00</td>\n",
       "      <td>303</td>\n",
       "      <td>3062</td>\n",
       "      <td>10</td>\n",
       "      <td>42529</td>\n",
       "      <td>50</td>\n",
       "    </tr>\n",
       "    <tr>\n",
       "      <th>88403</th>\n",
       "      <td>2021-03-05 23:55:00</td>\n",
       "      <td>304</td>\n",
       "      <td>3480</td>\n",
       "      <td>10</td>\n",
       "      <td>48346</td>\n",
       "      <td>50</td>\n",
       "    </tr>\n",
       "    <tr>\n",
       "      <th>88404</th>\n",
       "      <td>2021-03-05 23:55:00</td>\n",
       "      <td>305</td>\n",
       "      <td>2036</td>\n",
       "      <td>10</td>\n",
       "      <td>28279</td>\n",
       "      <td>50</td>\n",
       "    </tr>\n",
       "    <tr>\n",
       "      <th>88405</th>\n",
       "      <td>2021-03-05 23:55:00</td>\n",
       "      <td>306</td>\n",
       "      <td>2036</td>\n",
       "      <td>10</td>\n",
       "      <td>28279</td>\n",
       "      <td>50</td>\n",
       "    </tr>\n",
       "  </tbody>\n",
       "</table>\n",
       "<p>263396 rows × 6 columns</p>\n",
       "</div>"
      ],
      "text/plain": [
       "             discoveryTime  segmentId  travelTime  coverage  lengthmm  \\\n",
       "0      2021-03-03 00:00:00          0        1576        10     30651   \n",
       "1      2021-03-03 00:00:00          1        1311        10     25508   \n",
       "2      2021-03-03 00:00:00          2        1539        10     29935   \n",
       "3      2021-03-03 00:00:00          3        1769        10     34413   \n",
       "4      2021-03-03 00:00:00          4        1769        10     34413   \n",
       "...                    ...        ...         ...       ...       ...   \n",
       "88401  2021-03-05 23:55:00        302        3062        10     42529   \n",
       "88402  2021-03-05 23:55:00        303        3062        10     42529   \n",
       "88403  2021-03-05 23:55:00        304        3480        10     48346   \n",
       "88404  2021-03-05 23:55:00        305        2036        10     28279   \n",
       "88405  2021-03-05 23:55:00        306        2036        10     28279   \n",
       "\n",
       "       speedLimitKph  \n",
       "0                 70  \n",
       "1                 70  \n",
       "2                 70  \n",
       "3                 70  \n",
       "4                 70  \n",
       "...              ...  \n",
       "88401             50  \n",
       "88402             50  \n",
       "88403             50  \n",
       "88404             50  \n",
       "88405             50  \n",
       "\n",
       "[263396 rows x 6 columns]"
      ]
     },
     "execution_count": 5,
     "metadata": {},
     "output_type": "execute_result"
    }
   ],
   "source": [
    "\n",
    "d1 = pd.concat((df1,df2),axis = 0)\n",
    "\n",
    "df = pd.concat((d1,df3),axis = 0)\n",
    "\n",
    "df"
   ]
  },
  {
   "cell_type": "code",
   "execution_count": 6,
   "id": "5c799aa7",
   "metadata": {},
   "outputs": [
    {
     "data": {
      "text/html": [
       "<div>\n",
       "<style scoped>\n",
       "    .dataframe tbody tr th:only-of-type {\n",
       "        vertical-align: middle;\n",
       "    }\n",
       "\n",
       "    .dataframe tbody tr th {\n",
       "        vertical-align: top;\n",
       "    }\n",
       "\n",
       "    .dataframe thead th {\n",
       "        text-align: right;\n",
       "    }\n",
       "</style>\n",
       "<table border=\"1\" class=\"dataframe\">\n",
       "  <thead>\n",
       "    <tr style=\"text-align: right;\">\n",
       "      <th></th>\n",
       "      <th>discoveryTime</th>\n",
       "      <th>segmentId</th>\n",
       "      <th>travelTime</th>\n",
       "      <th>lengthmm</th>\n",
       "      <th>speedLimitKph</th>\n",
       "      <th>speed</th>\n",
       "    </tr>\n",
       "  </thead>\n",
       "  <tbody>\n",
       "    <tr>\n",
       "      <th>0</th>\n",
       "      <td>2021-03-03 00:00:00</td>\n",
       "      <td>0</td>\n",
       "      <td>0.000438</td>\n",
       "      <td>0.030651</td>\n",
       "      <td>70</td>\n",
       "      <td>70.014975</td>\n",
       "    </tr>\n",
       "    <tr>\n",
       "      <th>1</th>\n",
       "      <td>2021-03-03 00:00:00</td>\n",
       "      <td>1</td>\n",
       "      <td>0.000364</td>\n",
       "      <td>0.025508</td>\n",
       "      <td>70</td>\n",
       "      <td>70.044851</td>\n",
       "    </tr>\n",
       "    <tr>\n",
       "      <th>2</th>\n",
       "      <td>2021-03-03 00:00:00</td>\n",
       "      <td>2</td>\n",
       "      <td>0.000428</td>\n",
       "      <td>0.029935</td>\n",
       "      <td>70</td>\n",
       "      <td>70.023392</td>\n",
       "    </tr>\n",
       "    <tr>\n",
       "      <th>3</th>\n",
       "      <td>2021-03-03 00:00:00</td>\n",
       "      <td>3</td>\n",
       "      <td>0.000491</td>\n",
       "      <td>0.034413</td>\n",
       "      <td>70</td>\n",
       "      <td>70.032108</td>\n",
       "    </tr>\n",
       "    <tr>\n",
       "      <th>4</th>\n",
       "      <td>2021-03-03 00:00:00</td>\n",
       "      <td>4</td>\n",
       "      <td>0.000491</td>\n",
       "      <td>0.034413</td>\n",
       "      <td>70</td>\n",
       "      <td>70.032108</td>\n",
       "    </tr>\n",
       "    <tr>\n",
       "      <th>...</th>\n",
       "      <td>...</td>\n",
       "      <td>...</td>\n",
       "      <td>...</td>\n",
       "      <td>...</td>\n",
       "      <td>...</td>\n",
       "      <td>...</td>\n",
       "    </tr>\n",
       "    <tr>\n",
       "      <th>263391</th>\n",
       "      <td>2021-03-05 23:55:00</td>\n",
       "      <td>302</td>\n",
       "      <td>0.000851</td>\n",
       "      <td>0.042529</td>\n",
       "      <td>50</td>\n",
       "      <td>50.001437</td>\n",
       "    </tr>\n",
       "    <tr>\n",
       "      <th>263392</th>\n",
       "      <td>2021-03-05 23:55:00</td>\n",
       "      <td>303</td>\n",
       "      <td>0.000851</td>\n",
       "      <td>0.042529</td>\n",
       "      <td>50</td>\n",
       "      <td>50.001437</td>\n",
       "    </tr>\n",
       "    <tr>\n",
       "      <th>263393</th>\n",
       "      <td>2021-03-05 23:55:00</td>\n",
       "      <td>304</td>\n",
       "      <td>0.000967</td>\n",
       "      <td>0.048346</td>\n",
       "      <td>50</td>\n",
       "      <td>50.013103</td>\n",
       "    </tr>\n",
       "    <tr>\n",
       "      <th>263394</th>\n",
       "      <td>2021-03-05 23:55:00</td>\n",
       "      <td>305</td>\n",
       "      <td>0.000566</td>\n",
       "      <td>0.028279</td>\n",
       "      <td>50</td>\n",
       "      <td>50.002161</td>\n",
       "    </tr>\n",
       "    <tr>\n",
       "      <th>263395</th>\n",
       "      <td>2021-03-05 23:55:00</td>\n",
       "      <td>306</td>\n",
       "      <td>0.000566</td>\n",
       "      <td>0.028279</td>\n",
       "      <td>50</td>\n",
       "      <td>50.002161</td>\n",
       "    </tr>\n",
       "  </tbody>\n",
       "</table>\n",
       "<p>263396 rows × 6 columns</p>\n",
       "</div>"
      ],
      "text/plain": [
       "              discoveryTime  segmentId  travelTime  lengthmm  speedLimitKph  \\\n",
       "0       2021-03-03 00:00:00          0    0.000438  0.030651             70   \n",
       "1       2021-03-03 00:00:00          1    0.000364  0.025508             70   \n",
       "2       2021-03-03 00:00:00          2    0.000428  0.029935             70   \n",
       "3       2021-03-03 00:00:00          3    0.000491  0.034413             70   \n",
       "4       2021-03-03 00:00:00          4    0.000491  0.034413             70   \n",
       "...                     ...        ...         ...       ...            ...   \n",
       "263391  2021-03-05 23:55:00        302    0.000851  0.042529             50   \n",
       "263392  2021-03-05 23:55:00        303    0.000851  0.042529             50   \n",
       "263393  2021-03-05 23:55:00        304    0.000967  0.048346             50   \n",
       "263394  2021-03-05 23:55:00        305    0.000566  0.028279             50   \n",
       "263395  2021-03-05 23:55:00        306    0.000566  0.028279             50   \n",
       "\n",
       "            speed  \n",
       "0       70.014975  \n",
       "1       70.044851  \n",
       "2       70.023392  \n",
       "3       70.032108  \n",
       "4       70.032108  \n",
       "...           ...  \n",
       "263391  50.001437  \n",
       "263392  50.001437  \n",
       "263393  50.013103  \n",
       "263394  50.002161  \n",
       "263395  50.002161  \n",
       "\n",
       "[263396 rows x 6 columns]"
      ]
     },
     "execution_count": 6,
     "metadata": {},
     "output_type": "execute_result"
    }
   ],
   "source": [
    "\n",
    "df[\"travelTime\"] = df[\"travelTime\"]*2.77777778 * (1/10000000)\n",
    "\n",
    "df[\"lengthmm\"] = df[\"lengthmm\"]*(1/1000000)\n",
    "df1 = df.drop(\"coverage\", axis=1)\n",
    "\n",
    "df11= pd.DataFrame(df1)\n",
    "df11['speed'] = df1[\"lengthmm\"] / df1[\"travelTime\"]\n",
    "df11 = df11.reset_index().drop(\"index\", axis=1)\n",
    "\n",
    "df11"
   ]
  },
  {
   "cell_type": "code",
   "execution_count": 17,
   "id": "9ee9b96f",
   "metadata": {},
   "outputs": [
    {
     "data": {
      "text/plain": [
       "<AxesSubplot:xlabel='segmentId'>"
      ]
     },
     "execution_count": 17,
     "metadata": {},
     "output_type": "execute_result"
    },
    {
     "data": {
      "image/png": "[encoded data removed]",
      "text/plain": [
       "<Figure size 1080x720 with 1 Axes>"
      ]
     },
     "metadata": {
      "needs_background": "light"
     },
     "output_type": "display_data"
    }
   ],
   "source": [
    "x_data1 = df11[[\"segmentId\",\"speedLimitKph\",\"speed\"]]\n",
    "\n",
    "x1_data = x_data1.groupby(by=\"segmentId\").mean()               #????\n",
    "\n",
    "x1_data.plot(figsize=(15,10))"
   ]
  },
  {
   "cell_type": "code",
   "execution_count": 8,
   "id": "8dca37eb",
   "metadata": {},
   "outputs": [
    {
     "data": {
      "text/plain": [
       "array([ 54,  55,  56,  69,  70,  71,  72, 100, 195, 228, 229, 230, 253,\n",
       "       254], dtype=int64)"
      ]
     },
     "execution_count": 8,
     "metadata": {},
     "output_type": "execute_result"
    }
   ],
   "source": [
    "df_segment = x1_data[\"speed\"]<40\n",
    "\n",
    "df1 = df_segment.reset_index()\n",
    "\n",
    "df1.drop(df1[df1['speed'] == False].index, inplace=True)\n",
    "\n",
    "df1[\"segmentId\"].unique()"
   ]
  },
  {
   "cell_type": "code",
   "execution_count": null,
   "id": "8a71d895",
   "metadata": {},
   "outputs": [],
   "source": [
    "\n"
   ]
  },
  {
   "cell_type": "code",
   "execution_count": 11,
   "id": "5c693f2d",
   "metadata": {},
   "outputs": [],
   "source": [
    "def segmentId(k):\n",
    "    df_segment = df11[\"segmentId\"] == k\n",
    "\n",
    "    dff = df_segment.reset_index()\n",
    "\n",
    "    dff = dff.drop(\"index\", axis=1)\n",
    "\n",
    "    dff[\"ss\"] = dff[\"segmentId\"]\n",
    "\n",
    "    dff1 = pd.concat((df11,dff),axis = 1)\n",
    "\n",
    "\n",
    "    dff1.drop(dff1[dff1['ss'] == False].index, inplace=True)\n",
    "\n",
    "\n",
    "    return dff1\n"
   ]
  },
  {
   "cell_type": "code",
   "execution_count": 12,
   "id": "f3abff4c",
   "metadata": {},
   "outputs": [],
   "source": [
    "\n",
    "dff1 = segmentId(54)"
   ]
  },
  {
   "cell_type": "code",
   "execution_count": 15,
   "id": "d3335147",
   "metadata": {},
   "outputs": [
    {
     "data": {
      "text/plain": [
       "<AxesSubplot:xlabel='discoveryTime'>"
      ]
     },
     "execution_count": 15,
     "metadata": {},
     "output_type": "execute_result"
    },
    {
     "data": {
      "image/png": "[encoded data removed]",
      "text/plain": [
       "<Figure size 1080x360 with 1 Axes>"
      ]
     },
     "metadata": {
      "needs_background": "light"
     },
     "output_type": "display_data"
    }
   ],
   "source": [
    "    \n",
    "x_data = dff1[[\"discoveryTime\",\"speedLimitKph\",\"speed\"]]\n",
    "\n",
    "x_data.set_index(\"discoveryTime\")\n",
    "\n",
    "x_data.groupby(by=\"discoveryTime\").mean().plot(figsize=(15,5))"
   ]
  },
  {
   "cell_type": "code",
   "execution_count": null,
   "id": "688fbb17",
   "metadata": {},
   "outputs": [],
   "source": []
  },
  {
   "cell_type": "code",
   "execution_count": null,
   "id": "121d4f61",
   "metadata": {},
   "outputs": [],
   "source": []
  }
 ],
 "metadata": {
  "kernelspec": {
   "display_name": "Python 3",
   "language": "python",
   "name": "python3"
  },
  "language_info": {
   "codemirror_mode": {
    "name": "ipython",
    "version": 3
   },
   "file_extension": ".py",
   "mimetype": "text/x-python",
   "name": "python",
   "nbconvert_exporter": "python",
   "pygments_lexer": "ipython3",
   "version": "3.8.8"
  }
 },
 "nbformat": 4,
 "nbformat_minor": 5
}
