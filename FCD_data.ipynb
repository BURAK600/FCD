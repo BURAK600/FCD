{
 "cells": [
  {
   "cell_type": "code",
   "execution_count": 1,
   "id": "4888fe67",
   "metadata": {},
   "outputs": [
    {
     "data": {
      "text/html": [
       "<div>\n",
       "<style scoped>\n",
       "    .dataframe tbody tr th:only-of-type {\n",
       "        vertical-align: middle;\n",
       "    }\n",
       "\n",
       "    .dataframe tbody tr th {\n",
       "        vertical-align: top;\n",
       "    }\n",
       "\n",
       "    .dataframe thead th {\n",
       "        text-align: right;\n",
       "    }\n",
       "</style>\n",
       "<table border=\"1\" class=\"dataframe\">\n",
       "  <thead>\n",
       "    <tr style=\"text-align: right;\">\n",
       "      <th></th>\n",
       "      <th>discoveryTime</th>\n",
       "      <th>segmentId</th>\n",
       "      <th>travelTime</th>\n",
       "      <th>coverage</th>\n",
       "    </tr>\n",
       "  </thead>\n",
       "  <tbody>\n",
       "    <tr>\n",
       "      <th>0</th>\n",
       "      <td>2021-03-05 00:00:00</td>\n",
       "      <td>131016</td>\n",
       "      <td>1576</td>\n",
       "      <td>10</td>\n",
       "    </tr>\n",
       "    <tr>\n",
       "      <th>1</th>\n",
       "      <td>2021-03-05 00:00:00</td>\n",
       "      <td>134879</td>\n",
       "      <td>1311</td>\n",
       "      <td>10</td>\n",
       "    </tr>\n",
       "    <tr>\n",
       "      <th>2</th>\n",
       "      <td>2021-03-05 00:00:00</td>\n",
       "      <td>135146</td>\n",
       "      <td>1539</td>\n",
       "      <td>10</td>\n",
       "    </tr>\n",
       "    <tr>\n",
       "      <th>3</th>\n",
       "      <td>2021-03-05 00:00:00</td>\n",
       "      <td>182928</td>\n",
       "      <td>1769</td>\n",
       "      <td>10</td>\n",
       "    </tr>\n",
       "    <tr>\n",
       "      <th>4</th>\n",
       "      <td>2021-03-05 00:00:00</td>\n",
       "      <td>182929</td>\n",
       "      <td>1769</td>\n",
       "      <td>10</td>\n",
       "    </tr>\n",
       "    <tr>\n",
       "      <th>...</th>\n",
       "      <td>...</td>\n",
       "      <td>...</td>\n",
       "      <td>...</td>\n",
       "      <td>...</td>\n",
       "    </tr>\n",
       "    <tr>\n",
       "      <th>88401</th>\n",
       "      <td>2021-03-05 23:55:00</td>\n",
       "      <td>7425668</td>\n",
       "      <td>3062</td>\n",
       "      <td>10</td>\n",
       "    </tr>\n",
       "    <tr>\n",
       "      <th>88402</th>\n",
       "      <td>2021-03-05 23:55:00</td>\n",
       "      <td>7425669</td>\n",
       "      <td>3062</td>\n",
       "      <td>10</td>\n",
       "    </tr>\n",
       "    <tr>\n",
       "      <th>88403</th>\n",
       "      <td>2021-03-05 23:55:00</td>\n",
       "      <td>7452950</td>\n",
       "      <td>3480</td>\n",
       "      <td>10</td>\n",
       "    </tr>\n",
       "    <tr>\n",
       "      <th>88404</th>\n",
       "      <td>2021-03-05 23:55:00</td>\n",
       "      <td>7452951</td>\n",
       "      <td>2036</td>\n",
       "      <td>10</td>\n",
       "    </tr>\n",
       "    <tr>\n",
       "      <th>88405</th>\n",
       "      <td>2021-03-05 23:55:00</td>\n",
       "      <td>7452952</td>\n",
       "      <td>2036</td>\n",
       "      <td>10</td>\n",
       "    </tr>\n",
       "  </tbody>\n",
       "</table>\n",
       "<p>88406 rows × 4 columns</p>\n",
       "</div>"
      ],
      "text/plain": [
       "             discoveryTime  segmentId  travelTime  coverage\n",
       "0      2021-03-05 00:00:00     131016        1576        10\n",
       "1      2021-03-05 00:00:00     134879        1311        10\n",
       "2      2021-03-05 00:00:00     135146        1539        10\n",
       "3      2021-03-05 00:00:00     182928        1769        10\n",
       "4      2021-03-05 00:00:00     182929        1769        10\n",
       "...                    ...        ...         ...       ...\n",
       "88401  2021-03-05 23:55:00    7425668        3062        10\n",
       "88402  2021-03-05 23:55:00    7425669        3062        10\n",
       "88403  2021-03-05 23:55:00    7452950        3480        10\n",
       "88404  2021-03-05 23:55:00    7452951        2036        10\n",
       "88405  2021-03-05 23:55:00    7452952        2036        10\n",
       "\n",
       "[88406 rows x 4 columns]"
      ]
     },
     "execution_count": 1,
     "metadata": {},
     "output_type": "execute_result"
    }
   ],
   "source": [
    "import numpy as np \n",
    "import pandas as pd\n",
    "import matplotlib.pyplot as plt\n",
    "\n",
    "data_dynamic = pd.read_csv(r\"06.2.w_e_050321_fcdDynamicData.csv\")\n",
    "data_static = pd.read_csv(r\"06.2.w_e_fcdStaticData.csv\")\n",
    "data_dynamic"
   ]
  },
  {
   "cell_type": "code",
   "execution_count": null,
   "id": "69ae3087",
   "metadata": {},
   "outputs": [],
   "source": []
  },
  {
   "cell_type": "code",
   "execution_count": 2,
   "id": "b334117d",
   "metadata": {},
   "outputs": [],
   "source": [
    "\n",
    "data_static.sort_values(by = \"segmentId\", ascending=True)\n",
    "\n",
    "from sklearn import preprocessing\n",
    "le1 = preprocessing.LabelEncoder()\n",
    "\n",
    "data_static[\"segmentId\"] = le1.fit_transform(data_static[\"segmentId\"])"
   ]
  },
  {
   "cell_type": "code",
   "execution_count": 3,
   "id": "8f0f512c",
   "metadata": {},
   "outputs": [
    {
     "data": {
      "text/html": [
       "<div>\n",
       "<style scoped>\n",
       "    .dataframe tbody tr th:only-of-type {\n",
       "        vertical-align: middle;\n",
       "    }\n",
       "\n",
       "    .dataframe tbody tr th {\n",
       "        vertical-align: top;\n",
       "    }\n",
       "\n",
       "    .dataframe thead th {\n",
       "        text-align: right;\n",
       "    }\n",
       "</style>\n",
       "<table border=\"1\" class=\"dataframe\">\n",
       "  <thead>\n",
       "    <tr style=\"text-align: right;\">\n",
       "      <th></th>\n",
       "      <th>segmentId</th>\n",
       "      <th>lengthmm</th>\n",
       "      <th>speedLimitKph</th>\n",
       "    </tr>\n",
       "  </thead>\n",
       "  <tbody>\n",
       "    <tr>\n",
       "      <th>182</th>\n",
       "      <td>0</td>\n",
       "      <td>30651</td>\n",
       "      <td>70</td>\n",
       "    </tr>\n",
       "    <tr>\n",
       "      <th>285</th>\n",
       "      <td>1</td>\n",
       "      <td>25508</td>\n",
       "      <td>70</td>\n",
       "    </tr>\n",
       "    <tr>\n",
       "      <th>272</th>\n",
       "      <td>2</td>\n",
       "      <td>29935</td>\n",
       "      <td>70</td>\n",
       "    </tr>\n",
       "    <tr>\n",
       "      <th>283</th>\n",
       "      <td>3</td>\n",
       "      <td>34413</td>\n",
       "      <td>70</td>\n",
       "    </tr>\n",
       "    <tr>\n",
       "      <th>282</th>\n",
       "      <td>4</td>\n",
       "      <td>34413</td>\n",
       "      <td>70</td>\n",
       "    </tr>\n",
       "    <tr>\n",
       "      <th>...</th>\n",
       "      <td>...</td>\n",
       "      <td>...</td>\n",
       "      <td>...</td>\n",
       "    </tr>\n",
       "    <tr>\n",
       "      <th>43</th>\n",
       "      <td>302</td>\n",
       "      <td>42529</td>\n",
       "      <td>50</td>\n",
       "    </tr>\n",
       "    <tr>\n",
       "      <th>42</th>\n",
       "      <td>303</td>\n",
       "      <td>42529</td>\n",
       "      <td>50</td>\n",
       "    </tr>\n",
       "    <tr>\n",
       "      <th>7</th>\n",
       "      <td>304</td>\n",
       "      <td>48346</td>\n",
       "      <td>50</td>\n",
       "    </tr>\n",
       "    <tr>\n",
       "      <th>6</th>\n",
       "      <td>305</td>\n",
       "      <td>28279</td>\n",
       "      <td>50</td>\n",
       "    </tr>\n",
       "    <tr>\n",
       "      <th>5</th>\n",
       "      <td>306</td>\n",
       "      <td>28279</td>\n",
       "      <td>50</td>\n",
       "    </tr>\n",
       "  </tbody>\n",
       "</table>\n",
       "<p>307 rows × 3 columns</p>\n",
       "</div>"
      ],
      "text/plain": [
       "     segmentId  lengthmm  speedLimitKph\n",
       "182          0     30651             70\n",
       "285          1     25508             70\n",
       "272          2     29935             70\n",
       "283          3     34413             70\n",
       "282          4     34413             70\n",
       "..         ...       ...            ...\n",
       "43         302     42529             50\n",
       "42         303     42529             50\n",
       "7          304     48346             50\n",
       "6          305     28279             50\n",
       "5          306     28279             50\n",
       "\n",
       "[307 rows x 3 columns]"
      ]
     },
     "execution_count": 3,
     "metadata": {},
     "output_type": "execute_result"
    }
   ],
   "source": [
    "data_static.sort_values(by = \"segmentId\", ascending=True)\n"
   ]
  },
  {
   "cell_type": "code",
   "execution_count": 4,
   "id": "ee5832e7",
   "metadata": {},
   "outputs": [
    {
     "data": {
      "text/plain": [
       "'data_static.set_index(\"segmentId\",inplace=True)\\n\\ndata_static.sort_index(axis=0, ascending=True)'"
      ]
     },
     "execution_count": 4,
     "metadata": {},
     "output_type": "execute_result"
    }
   ],
   "source": [
    "\n",
    "\"\"\"data_static.set_index(\"segmentId\",inplace=True)\n",
    "\n",
    "data_static.sort_index(axis=0, ascending=True)\"\"\""
   ]
  },
  {
   "cell_type": "code",
   "execution_count": 5,
   "id": "c0be3a2e",
   "metadata": {},
   "outputs": [],
   "source": [
    "data_dynamic[\"coverage\"] = 10"
   ]
  },
  {
   "cell_type": "code",
   "execution_count": 6,
   "id": "fcea241f",
   "metadata": {},
   "outputs": [
    {
     "data": {
      "text/plain": [
       "0          0\n",
       "1          0\n",
       "2          0\n",
       "3          0\n",
       "4          0\n",
       "        ... \n",
       "88401    287\n",
       "88402    287\n",
       "88403    287\n",
       "88404    287\n",
       "88405    287\n",
       "Name: discoveryTime, Length: 88406, dtype: int32"
      ]
     },
     "execution_count": 6,
     "metadata": {},
     "output_type": "execute_result"
    }
   ],
   "source": [
    "from sklearn import preprocessing\n",
    "le = preprocessing.LabelEncoder()\n",
    "\n",
    "data_dynamic[\"discoveryTime\"] = le.fit_transform(data_dynamic[\"discoveryTime\"])\n",
    "data_dynamic[\"discoveryTime\"]"
   ]
  },
  {
   "cell_type": "code",
   "execution_count": 7,
   "id": "87314574",
   "metadata": {},
   "outputs": [
    {
     "data": {
      "text/plain": [
       "0          0\n",
       "1          1\n",
       "2          2\n",
       "3          3\n",
       "4          4\n",
       "        ... \n",
       "88401    302\n",
       "88402    303\n",
       "88403    304\n",
       "88404    305\n",
       "88405    306\n",
       "Name: segmentId, Length: 88406, dtype: int64"
      ]
     },
     "execution_count": 7,
     "metadata": {},
     "output_type": "execute_result"
    }
   ],
   "source": [
    "data_dynamic[\"segmentId\"].sort_values()\n",
    "\n",
    "from sklearn import preprocessing\n",
    "le = preprocessing.LabelEncoder()\n",
    "\n",
    "data_dynamic[\"segmentId\"] = le.fit_transform(data_dynamic[\"segmentId\"])\n",
    "data_dynamic[\"segmentId\"]"
   ]
  },
  {
   "cell_type": "code",
   "execution_count": 8,
   "id": "df06de01",
   "metadata": {},
   "outputs": [
    {
     "data": {
      "text/html": [
       "<div>\n",
       "<style scoped>\n",
       "    .dataframe tbody tr th:only-of-type {\n",
       "        vertical-align: middle;\n",
       "    }\n",
       "\n",
       "    .dataframe tbody tr th {\n",
       "        vertical-align: top;\n",
       "    }\n",
       "\n",
       "    .dataframe thead th {\n",
       "        text-align: right;\n",
       "    }\n",
       "</style>\n",
       "<table border=\"1\" class=\"dataframe\">\n",
       "  <thead>\n",
       "    <tr style=\"text-align: right;\">\n",
       "      <th></th>\n",
       "      <th>discoveryTime</th>\n",
       "      <th>segmentId</th>\n",
       "      <th>travelTime</th>\n",
       "      <th>coverage</th>\n",
       "    </tr>\n",
       "  </thead>\n",
       "  <tbody>\n",
       "    <tr>\n",
       "      <th>0</th>\n",
       "      <td>0</td>\n",
       "      <td>0</td>\n",
       "      <td>1576</td>\n",
       "      <td>10</td>\n",
       "    </tr>\n",
       "    <tr>\n",
       "      <th>1</th>\n",
       "      <td>0</td>\n",
       "      <td>1</td>\n",
       "      <td>1311</td>\n",
       "      <td>10</td>\n",
       "    </tr>\n",
       "    <tr>\n",
       "      <th>2</th>\n",
       "      <td>0</td>\n",
       "      <td>2</td>\n",
       "      <td>1539</td>\n",
       "      <td>10</td>\n",
       "    </tr>\n",
       "    <tr>\n",
       "      <th>3</th>\n",
       "      <td>0</td>\n",
       "      <td>3</td>\n",
       "      <td>1769</td>\n",
       "      <td>10</td>\n",
       "    </tr>\n",
       "    <tr>\n",
       "      <th>4</th>\n",
       "      <td>0</td>\n",
       "      <td>4</td>\n",
       "      <td>1769</td>\n",
       "      <td>10</td>\n",
       "    </tr>\n",
       "    <tr>\n",
       "      <th>...</th>\n",
       "      <td>...</td>\n",
       "      <td>...</td>\n",
       "      <td>...</td>\n",
       "      <td>...</td>\n",
       "    </tr>\n",
       "    <tr>\n",
       "      <th>305</th>\n",
       "      <td>0</td>\n",
       "      <td>305</td>\n",
       "      <td>2036</td>\n",
       "      <td>10</td>\n",
       "    </tr>\n",
       "    <tr>\n",
       "      <th>306</th>\n",
       "      <td>0</td>\n",
       "      <td>306</td>\n",
       "      <td>2036</td>\n",
       "      <td>10</td>\n",
       "    </tr>\n",
       "    <tr>\n",
       "      <th>307</th>\n",
       "      <td>1</td>\n",
       "      <td>0</td>\n",
       "      <td>1576</td>\n",
       "      <td>10</td>\n",
       "    </tr>\n",
       "    <tr>\n",
       "      <th>308</th>\n",
       "      <td>1</td>\n",
       "      <td>1</td>\n",
       "      <td>1311</td>\n",
       "      <td>10</td>\n",
       "    </tr>\n",
       "    <tr>\n",
       "      <th>309</th>\n",
       "      <td>1</td>\n",
       "      <td>2</td>\n",
       "      <td>1539</td>\n",
       "      <td>10</td>\n",
       "    </tr>\n",
       "  </tbody>\n",
       "</table>\n",
       "<p>310 rows × 4 columns</p>\n",
       "</div>"
      ],
      "text/plain": [
       "     discoveryTime  segmentId  travelTime  coverage\n",
       "0                0          0        1576        10\n",
       "1                0          1        1311        10\n",
       "2                0          2        1539        10\n",
       "3                0          3        1769        10\n",
       "4                0          4        1769        10\n",
       "..             ...        ...         ...       ...\n",
       "305              0        305        2036        10\n",
       "306              0        306        2036        10\n",
       "307              1          0        1576        10\n",
       "308              1          1        1311        10\n",
       "309              1          2        1539        10\n",
       "\n",
       "[310 rows x 4 columns]"
      ]
     },
     "execution_count": 8,
     "metadata": {},
     "output_type": "execute_result"
    }
   ],
   "source": [
    "data_dynamic.head(310)"
   ]
  },
  {
   "cell_type": "code",
   "execution_count": 9,
   "id": "7e03fb79",
   "metadata": {},
   "outputs": [
    {
     "data": {
      "text/plain": [
       "<AxesSubplot:xlabel='discoveryTime'>"
      ]
     },
     "execution_count": 9,
     "metadata": {},
     "output_type": "execute_result"
    },
    {
     "data": {
      "image/png": "[encoded data removed]",
      "text/plain": [
       "<Figure size 432x288 with 1 Axes>"
      ]
     },
     "metadata": {
      "needs_background": "light"
     },
     "output_type": "display_data"
    }
   ],
   "source": [
    "x_data = data_dynamic[[\"discoveryTime\",\"travelTime\"]]\n",
    "\n",
    "x_data.groupby(by=\"discoveryTime\").mean().plot()   \n",
    "\n"
   ]
  },
  {
   "cell_type": "code",
   "execution_count": null,
   "id": "71c519e8",
   "metadata": {},
   "outputs": [],
   "source": []
  },
  {
   "cell_type": "code",
   "execution_count": 10,
   "id": "8c74077f",
   "metadata": {},
   "outputs": [
    {
     "data": {
      "text/plain": [
       "<AxesSubplot:xlabel='segmentId'>"
      ]
     },
     "execution_count": 10,
     "metadata": {},
     "output_type": "execute_result"
    },
    {
     "data": {
      "image/png": "[encoded data removed]",
      "text/plain": [
       "<Figure size 432x288 with 1 Axes>"
      ]
     },
     "metadata": {
      "needs_background": "light"
     },
     "output_type": "display_data"
    }
   ],
   "source": [
    "x_data1 = data_dynamic[[\"segmentId\",\"travelTime\"]]\n",
    "\n",
    "x_data1.groupby(by=\"segmentId\").mean().plot()   \n"
   ]
  },
  {
   "cell_type": "code",
   "execution_count": 11,
   "id": "e982e11e",
   "metadata": {},
   "outputs": [
    {
     "data": {
      "text/html": [
       "<div>\n",
       "<style scoped>\n",
       "    .dataframe tbody tr th:only-of-type {\n",
       "        vertical-align: middle;\n",
       "    }\n",
       "\n",
       "    .dataframe tbody tr th {\n",
       "        vertical-align: top;\n",
       "    }\n",
       "\n",
       "    .dataframe thead th {\n",
       "        text-align: right;\n",
       "    }\n",
       "</style>\n",
       "<table border=\"1\" class=\"dataframe\">\n",
       "  <thead>\n",
       "    <tr style=\"text-align: right;\">\n",
       "      <th></th>\n",
       "      <th>discoveryTime</th>\n",
       "      <th>segmentId</th>\n",
       "      <th>travelTime</th>\n",
       "      <th>lengthmm</th>\n",
       "      <th>speedLimitKph</th>\n",
       "      <th>speed</th>\n",
       "    </tr>\n",
       "  </thead>\n",
       "  <tbody>\n",
       "    <tr>\n",
       "      <th>0</th>\n",
       "      <td>0</td>\n",
       "      <td>0</td>\n",
       "      <td>0.000438</td>\n",
       "      <td>0.030651</td>\n",
       "      <td>70</td>\n",
       "      <td>70.014975</td>\n",
       "    </tr>\n",
       "    <tr>\n",
       "      <th>1</th>\n",
       "      <td>0</td>\n",
       "      <td>1</td>\n",
       "      <td>0.000364</td>\n",
       "      <td>0.025508</td>\n",
       "      <td>70</td>\n",
       "      <td>70.044851</td>\n",
       "    </tr>\n",
       "    <tr>\n",
       "      <th>2</th>\n",
       "      <td>0</td>\n",
       "      <td>2</td>\n",
       "      <td>0.000428</td>\n",
       "      <td>0.029935</td>\n",
       "      <td>70</td>\n",
       "      <td>70.023392</td>\n",
       "    </tr>\n",
       "    <tr>\n",
       "      <th>3</th>\n",
       "      <td>0</td>\n",
       "      <td>3</td>\n",
       "      <td>0.000491</td>\n",
       "      <td>0.034413</td>\n",
       "      <td>70</td>\n",
       "      <td>70.032108</td>\n",
       "    </tr>\n",
       "    <tr>\n",
       "      <th>4</th>\n",
       "      <td>0</td>\n",
       "      <td>4</td>\n",
       "      <td>0.000491</td>\n",
       "      <td>0.034413</td>\n",
       "      <td>70</td>\n",
       "      <td>70.032108</td>\n",
       "    </tr>\n",
       "    <tr>\n",
       "      <th>...</th>\n",
       "      <td>...</td>\n",
       "      <td>...</td>\n",
       "      <td>...</td>\n",
       "      <td>...</td>\n",
       "      <td>...</td>\n",
       "      <td>...</td>\n",
       "    </tr>\n",
       "    <tr>\n",
       "      <th>88401</th>\n",
       "      <td>287</td>\n",
       "      <td>302</td>\n",
       "      <td>0.000851</td>\n",
       "      <td>0.042529</td>\n",
       "      <td>50</td>\n",
       "      <td>50.001437</td>\n",
       "    </tr>\n",
       "    <tr>\n",
       "      <th>88402</th>\n",
       "      <td>287</td>\n",
       "      <td>303</td>\n",
       "      <td>0.000851</td>\n",
       "      <td>0.042529</td>\n",
       "      <td>50</td>\n",
       "      <td>50.001437</td>\n",
       "    </tr>\n",
       "    <tr>\n",
       "      <th>88403</th>\n",
       "      <td>287</td>\n",
       "      <td>304</td>\n",
       "      <td>0.000967</td>\n",
       "      <td>0.048346</td>\n",
       "      <td>50</td>\n",
       "      <td>50.013103</td>\n",
       "    </tr>\n",
       "    <tr>\n",
       "      <th>88404</th>\n",
       "      <td>287</td>\n",
       "      <td>305</td>\n",
       "      <td>0.000566</td>\n",
       "      <td>0.028279</td>\n",
       "      <td>50</td>\n",
       "      <td>50.002161</td>\n",
       "    </tr>\n",
       "    <tr>\n",
       "      <th>88405</th>\n",
       "      <td>287</td>\n",
       "      <td>306</td>\n",
       "      <td>0.000566</td>\n",
       "      <td>0.028279</td>\n",
       "      <td>50</td>\n",
       "      <td>50.002161</td>\n",
       "    </tr>\n",
       "  </tbody>\n",
       "</table>\n",
       "<p>88406 rows × 6 columns</p>\n",
       "</div>"
      ],
      "text/plain": [
       "       discoveryTime  segmentId  travelTime  lengthmm  speedLimitKph  \\\n",
       "0                  0          0    0.000438  0.030651             70   \n",
       "1                  0          1    0.000364  0.025508             70   \n",
       "2                  0          2    0.000428  0.029935             70   \n",
       "3                  0          3    0.000491  0.034413             70   \n",
       "4                  0          4    0.000491  0.034413             70   \n",
       "...              ...        ...         ...       ...            ...   \n",
       "88401            287        302    0.000851  0.042529             50   \n",
       "88402            287        303    0.000851  0.042529             50   \n",
       "88403            287        304    0.000967  0.048346             50   \n",
       "88404            287        305    0.000566  0.028279             50   \n",
       "88405            287        306    0.000566  0.028279             50   \n",
       "\n",
       "           speed  \n",
       "0      70.014975  \n",
       "1      70.044851  \n",
       "2      70.023392  \n",
       "3      70.032108  \n",
       "4      70.032108  \n",
       "...          ...  \n",
       "88401  50.001437  \n",
       "88402  50.001437  \n",
       "88403  50.013103  \n",
       "88404  50.002161  \n",
       "88405  50.002161  \n",
       "\n",
       "[88406 rows x 6 columns]"
      ]
     },
     "execution_count": 11,
     "metadata": {},
     "output_type": "execute_result"
    }
   ],
   "source": [
    "data_son = data_dynamic.merge(data_static, on='segmentId', how='left') \n",
    "data_son[\"travelTime\"] = data_son[\"travelTime\"]*2.77777778 * (1/10000000)\n",
    "\n",
    "data_son[\"lengthmm\"] = data_son[\"lengthmm\"]*(1/1000000)\n",
    "data_son1 = data_son.drop(\"coverage\", axis=1)\n",
    "\n",
    "data_son12= pd.DataFrame(data_son1)\n",
    "data_son12['speed'] = data_son1[\"lengthmm\"] / data_son[\"travelTime\"]\n",
    "data_son12"
   ]
  },
  {
   "cell_type": "code",
   "execution_count": null,
   "id": "e89093ed",
   "metadata": {},
   "outputs": [],
   "source": []
  },
  {
   "cell_type": "code",
   "execution_count": 17,
   "id": "baba6b9f",
   "metadata": {},
   "outputs": [
    {
     "data": {
      "text/plain": [
       "<AxesSubplot:xlabel='segmentId'>"
      ]
     },
     "execution_count": 17,
     "metadata": {},
     "output_type": "execute_result"
    },
    {
     "data": {
      "image/png": "[encoded data removed]",
      "text/plain": [
       "<Figure size 432x288 with 1 Axes>"
      ]
     },
     "metadata": {
      "needs_background": "light"
     },
     "output_type": "display_data"
    }
   ],
   "source": [
    "x_data2 = data_son12[[\"segmentId\",\"speedLimitKph\",\"speed\"]]\n",
    "\n",
    "x_data3 = x_data2.groupby(by=\"segmentId\").mean()\n",
    "x_data3.plot()\n",
    "\n"
   ]
  },
  {
   "cell_type": "code",
   "execution_count": 18,
   "id": "f93ef32a",
   "metadata": {},
   "outputs": [
    {
     "data": {
      "text/html": [
       "<div>\n",
       "<style scoped>\n",
       "    .dataframe tbody tr th:only-of-type {\n",
       "        vertical-align: middle;\n",
       "    }\n",
       "\n",
       "    .dataframe tbody tr th {\n",
       "        vertical-align: top;\n",
       "    }\n",
       "\n",
       "    .dataframe thead th {\n",
       "        text-align: right;\n",
       "    }\n",
       "</style>\n",
       "<table border=\"1\" class=\"dataframe\">\n",
       "  <thead>\n",
       "    <tr style=\"text-align: right;\">\n",
       "      <th></th>\n",
       "      <th>speedLimitKph</th>\n",
       "      <th>speed</th>\n",
       "    </tr>\n",
       "    <tr>\n",
       "      <th>segmentId</th>\n",
       "      <th></th>\n",
       "      <th></th>\n",
       "    </tr>\n",
       "  </thead>\n",
       "  <tbody>\n",
       "    <tr>\n",
       "      <th>69</th>\n",
       "      <td>50</td>\n",
       "      <td>35.629562</td>\n",
       "    </tr>\n",
       "    <tr>\n",
       "      <th>70</th>\n",
       "      <td>50</td>\n",
       "      <td>35.686930</td>\n",
       "    </tr>\n",
       "    <tr>\n",
       "      <th>230</th>\n",
       "      <td>50</td>\n",
       "      <td>35.981349</td>\n",
       "    </tr>\n",
       "    <tr>\n",
       "      <th>195</th>\n",
       "      <td>50</td>\n",
       "      <td>36.070947</td>\n",
       "    </tr>\n",
       "    <tr>\n",
       "      <th>56</th>\n",
       "      <td>50</td>\n",
       "      <td>36.078432</td>\n",
       "    </tr>\n",
       "    <tr>\n",
       "      <th>...</th>\n",
       "      <td>...</td>\n",
       "      <td>...</td>\n",
       "    </tr>\n",
       "    <tr>\n",
       "      <th>93</th>\n",
       "      <td>70</td>\n",
       "      <td>69.588631</td>\n",
       "    </tr>\n",
       "    <tr>\n",
       "      <th>82</th>\n",
       "      <td>70</td>\n",
       "      <td>69.616418</td>\n",
       "    </tr>\n",
       "    <tr>\n",
       "      <th>94</th>\n",
       "      <td>70</td>\n",
       "      <td>69.668489</td>\n",
       "    </tr>\n",
       "    <tr>\n",
       "      <th>81</th>\n",
       "      <td>70</td>\n",
       "      <td>69.669598</td>\n",
       "    </tr>\n",
       "    <tr>\n",
       "      <th>95</th>\n",
       "      <td>70</td>\n",
       "      <td>69.743907</td>\n",
       "    </tr>\n",
       "  </tbody>\n",
       "</table>\n",
       "<p>307 rows × 2 columns</p>\n",
       "</div>"
      ],
      "text/plain": [
       "           speedLimitKph      speed\n",
       "segmentId                          \n",
       "69                    50  35.629562\n",
       "70                    50  35.686930\n",
       "230                   50  35.981349\n",
       "195                   50  36.070947\n",
       "56                    50  36.078432\n",
       "...                  ...        ...\n",
       "93                    70  69.588631\n",
       "82                    70  69.616418\n",
       "94                    70  69.668489\n",
       "81                    70  69.669598\n",
       "95                    70  69.743907\n",
       "\n",
       "[307 rows x 2 columns]"
      ]
     },
     "execution_count": 18,
     "metadata": {},
     "output_type": "execute_result"
    }
   ],
   "source": [
    "x_data3.sort_values(\"speed\")\n"
   ]
  },
  {
   "cell_type": "code",
   "execution_count": null,
   "id": "b7b066a9",
   "metadata": {},
   "outputs": [],
   "source": []
  },
  {
   "cell_type": "code",
   "execution_count": null,
   "id": "b8dff2d3",
   "metadata": {},
   "outputs": [],
   "source": []
  },
  {
   "cell_type": "code",
   "execution_count": 21,
   "id": "789c63f8",
   "metadata": {},
   "outputs": [
    {
     "data": {
      "text/plain": [
       "array([ 56,  69,  70,  71,  72, 195, 229, 230], dtype=int64)"
      ]
     },
     "execution_count": 21,
     "metadata": {},
     "output_type": "execute_result"
    }
   ],
   "source": [
    "df_segment = x_data3[\"speed\"]<40\n",
    "\n",
    "df1 = df_segment.reset_index()\n",
    "\n",
    "df1.drop(df1[df1['speed'] == False].index, inplace=True)\n",
    "\n",
    "df1[\"segmentId\"].unique()\n"
   ]
  },
  {
   "cell_type": "code",
   "execution_count": null,
   "id": "8238894a",
   "metadata": {},
   "outputs": [],
   "source": []
  },
  {
   "cell_type": "code",
   "execution_count": 24,
   "id": "15d794c5",
   "metadata": {},
   "outputs": [],
   "source": [
    "def segmentId(k):\n",
    "    df_segment = data_son12[\"segmentId\"] == k\n",
    "\n",
    "    dff = df_segment.reset_index()\n",
    "\n",
    "    dff[\"ss\"] = dff[\"segmentId\"]\n",
    "\n",
    "    dff1 = pd.concat((data_son12,dff),axis = 1)\n",
    "\n",
    "    dff1.drop(dff1[dff1['ss'] == False].index, inplace=True)\n",
    "    return dff1"
   ]
  },
  {
   "cell_type": "code",
   "execution_count": 27,
   "id": "6abf0eb4",
   "metadata": {},
   "outputs": [],
   "source": [
    "dff1 = segmentId(56)\n",
    "\n"
   ]
  },
  {
   "cell_type": "code",
   "execution_count": 28,
   "id": "c8ad64e2",
   "metadata": {},
   "outputs": [
    {
     "data": {
      "text/plain": [
       "<AxesSubplot:xlabel='discoveryTime'>"
      ]
     },
     "execution_count": 28,
     "metadata": {},
     "output_type": "execute_result"
    },
    {
     "data": {
      "image/png": "[encoded data removed]",
      "text/plain": [
       "<Figure size 432x288 with 1 Axes>"
      ]
     },
     "metadata": {
      "needs_background": "light"
     },
     "output_type": "display_data"
    }
   ],
   "source": [
    "x_data5 = dff1[[\"discoveryTime\",\"speedLimitKph\",\"speed\"]]\n",
    "\n",
    "x_data5.set_index(\"discoveryTime\")\n",
    "\n",
    "\n",
    "x_data5.groupby(by=\"discoveryTime\").mean().plot()\n",
    "\n"
   ]
  },
  {
   "cell_type": "code",
   "execution_count": null,
   "id": "024a20b7",
   "metadata": {},
   "outputs": [],
   "source": []
  },
  {
   "cell_type": "code",
   "execution_count": null,
   "id": "36d28afa",
   "metadata": {},
   "outputs": [],
   "source": []
  },
  {
   "cell_type": "code",
   "execution_count": null,
   "id": "418a27c6",
   "metadata": {},
   "outputs": [],
   "source": []
  },
  {
   "cell_type": "code",
   "execution_count": null,
   "id": "a9cd65c6",
   "metadata": {},
   "outputs": [],
   "source": []
  },
  {
   "cell_type": "code",
   "execution_count": null,
   "id": "46e188f1",
   "metadata": {},
   "outputs": [],
   "source": []
  },
  {
   "cell_type": "code",
   "execution_count": null,
   "id": "4675ab4c",
   "metadata": {},
   "outputs": [],
   "source": []
  },
  {
   "cell_type": "code",
   "execution_count": null,
   "id": "8d120428",
   "metadata": {},
   "outputs": [],
   "source": []
  },
  {
   "cell_type": "code",
   "execution_count": 17,
   "id": "b7e9d4a5",
   "metadata": {},
   "outputs": [],
   "source": [
    "\n",
    "from sklearn.preprocessing import StandardScaler\n",
    "\n",
    "sc = StandardScaler()\n",
    "\n",
    "X = sc.fit_transform(data_son1)"
   ]
  },
  {
   "cell_type": "code",
   "execution_count": 18,
   "id": "a45ec3e0",
   "metadata": {},
   "outputs": [
    {
     "data": {
      "text/plain": [
       "array([[-1.72617481, -1.72641539, -0.37953179,  0.        , -0.77501912,\n",
       "         0.50291103],\n",
       "       [-1.72617481, -1.71513205, -0.4434986 ,  0.        , -1.25021898,\n",
       "         0.50291103],\n",
       "       [-1.72617481, -1.70384871, -0.388463  ,  0.        , -0.84117566,\n",
       "         0.50291103],\n",
       "       ...,\n",
       "       [ 1.72593807,  1.70372108,  0.08006371,  0.        ,  0.85995299,\n",
       "        -1.98842329],\n",
       "       [ 1.72593807,  1.71500442, -0.26849506,  0.        , -0.99418577,\n",
       "        -1.98842329],\n",
       "       [ 1.72593807,  1.72628776, -0.26849506,  0.        , -0.99418577,\n",
       "        -1.98842329]])"
      ]
     },
     "execution_count": 18,
     "metadata": {},
     "output_type": "execute_result"
    }
   ],
   "source": [
    "X"
   ]
  },
  {
   "cell_type": "code",
   "execution_count": 19,
   "id": "53718d74",
   "metadata": {},
   "outputs": [],
   "source": [
    "X1 = X[0:5000,:]"
   ]
  },
  {
   "cell_type": "code",
   "execution_count": 20,
   "id": "6e215f72",
   "metadata": {},
   "outputs": [
    {
     "data": {
      "text/plain": [
       "'import scipy.cluster.hierarchy as sch\\n\\ndendogram = sch.dendrogram(sch.linkage(X1, method = \"ward\"))'"
      ]
     },
     "execution_count": 20,
     "metadata": {},
     "output_type": "execute_result"
    }
   ],
   "source": [
    "\"\"\"import scipy.cluster.hierarchy as sch\n",
    "\n",
    "dendogram = sch.dendrogram(sch.linkage(X1, method = \"ward\"))\"\"\""
   ]
  },
  {
   "cell_type": "code",
   "execution_count": null,
   "id": "e1c8886d",
   "metadata": {},
   "outputs": [],
   "source": [
    "from sklearn.cluster import KMeans\n",
    "from sklearn.metrics import davies_bouldin_score\n",
    "from sklearn.metrics import silhouette_score\n",
    "\n",
    "\n",
    "\n",
    "def control_k(k):\n",
    "    \n",
    "    for i in range(2,k):\n",
    "        kmeans = KMeans(n_clusters = i, init='k-means++')\n",
    "        kmeans.fit(X)\n",
    "        y = kmeans.labels_\n",
    "\n",
    "        print(\" for k = {1}, silhouette_score_: {0}\".format(silhouette_score(X,y, metric='euclidean'),i))\n",
    " \n",
    "        print('for k = {1}, Davies Bouldin Score: {0}'.format(davies_bouldin_score(X,y),i))\n",
    "        \n",
    "control_k(10)\n"
   ]
  },
  {
   "cell_type": "code",
   "execution_count": 20,
   "id": "f5e54493",
   "metadata": {},
   "outputs": [
    {
     "data": {
      "text/plain": [
       "(88406,)"
      ]
     },
     "execution_count": 20,
     "metadata": {},
     "output_type": "execute_result"
    }
   ],
   "source": [
    "kmeans.labels_.shape"
   ]
  },
  {
   "cell_type": "code",
   "execution_count": 21,
   "id": "ac75f6ad",
   "metadata": {},
   "outputs": [
    {
     "data": {
      "text/html": [
       "<div>\n",
       "<style scoped>\n",
       "    .dataframe tbody tr th:only-of-type {\n",
       "        vertical-align: middle;\n",
       "    }\n",
       "\n",
       "    .dataframe tbody tr th {\n",
       "        vertical-align: top;\n",
       "    }\n",
       "\n",
       "    .dataframe thead th {\n",
       "        text-align: right;\n",
       "    }\n",
       "</style>\n",
       "<table border=\"1\" class=\"dataframe\">\n",
       "  <thead>\n",
       "    <tr style=\"text-align: right;\">\n",
       "      <th></th>\n",
       "      <th>discoveryTime</th>\n",
       "      <th>segmentId</th>\n",
       "      <th>travelTime</th>\n",
       "      <th>lengthmm</th>\n",
       "      <th>speedLimitKph</th>\n",
       "      <th>cluster</th>\n",
       "    </tr>\n",
       "  </thead>\n",
       "  <tbody>\n",
       "    <tr>\n",
       "      <th>0</th>\n",
       "      <td>0</td>\n",
       "      <td>0</td>\n",
       "      <td>0.000438</td>\n",
       "      <td>0.030651</td>\n",
       "      <td>70</td>\n",
       "      <td>0</td>\n",
       "    </tr>\n",
       "    <tr>\n",
       "      <th>1</th>\n",
       "      <td>0</td>\n",
       "      <td>1</td>\n",
       "      <td>0.000364</td>\n",
       "      <td>0.025508</td>\n",
       "      <td>70</td>\n",
       "      <td>0</td>\n",
       "    </tr>\n",
       "    <tr>\n",
       "      <th>2</th>\n",
       "      <td>0</td>\n",
       "      <td>2</td>\n",
       "      <td>0.000428</td>\n",
       "      <td>0.029935</td>\n",
       "      <td>70</td>\n",
       "      <td>0</td>\n",
       "    </tr>\n",
       "    <tr>\n",
       "      <th>3</th>\n",
       "      <td>0</td>\n",
       "      <td>3</td>\n",
       "      <td>0.000491</td>\n",
       "      <td>0.034413</td>\n",
       "      <td>70</td>\n",
       "      <td>0</td>\n",
       "    </tr>\n",
       "    <tr>\n",
       "      <th>4</th>\n",
       "      <td>0</td>\n",
       "      <td>4</td>\n",
       "      <td>0.000491</td>\n",
       "      <td>0.034413</td>\n",
       "      <td>70</td>\n",
       "      <td>0</td>\n",
       "    </tr>\n",
       "  </tbody>\n",
       "</table>\n",
       "</div>"
      ],
      "text/plain": [
       "   discoveryTime  segmentId  travelTime  lengthmm  speedLimitKph  cluster\n",
       "0              0          0    0.000438  0.030651             70        0\n",
       "1              0          1    0.000364  0.025508             70        0\n",
       "2              0          2    0.000428  0.029935             70        0\n",
       "3              0          3    0.000491  0.034413             70        0\n",
       "4              0          4    0.000491  0.034413             70        0"
      ]
     },
     "execution_count": 21,
     "metadata": {},
     "output_type": "execute_result"
    }
   ],
   "source": [
    "frame = pd.DataFrame(data_son1)\n",
    "frame['cluster'] = kmeans.labels_\n",
    "frame.head()"
   ]
  },
  {
   "cell_type": "code",
   "execution_count": 23,
   "id": "3ec1ca74",
   "metadata": {},
   "outputs": [
    {
     "data": {
      "text/html": [
       "<div>\n",
       "<style scoped>\n",
       "    .dataframe tbody tr th:only-of-type {\n",
       "        vertical-align: middle;\n",
       "    }\n",
       "\n",
       "    .dataframe tbody tr th {\n",
       "        vertical-align: top;\n",
       "    }\n",
       "\n",
       "    .dataframe thead th {\n",
       "        text-align: right;\n",
       "    }\n",
       "</style>\n",
       "<table border=\"1\" class=\"dataframe\">\n",
       "  <thead>\n",
       "    <tr style=\"text-align: right;\">\n",
       "      <th></th>\n",
       "      <th>cluster</th>\n",
       "      <th>discoveryTime</th>\n",
       "      <th>segmentId</th>\n",
       "      <th>travelTime</th>\n",
       "      <th>lengthmm</th>\n",
       "      <th>speedLimitKph</th>\n",
       "    </tr>\n",
       "  </thead>\n",
       "  <tbody>\n",
       "    <tr>\n",
       "      <th>0</th>\n",
       "      <td>0</td>\n",
       "      <td>142.642698</td>\n",
       "      <td>92.993087</td>\n",
       "      <td>0.000593</td>\n",
       "      <td>0.035436</td>\n",
       "      <td>70.000000</td>\n",
       "    </tr>\n",
       "    <tr>\n",
       "      <th>1</th>\n",
       "      <td>1</td>\n",
       "      <td>142.547677</td>\n",
       "      <td>133.302343</td>\n",
       "      <td>0.000978</td>\n",
       "      <td>0.036935</td>\n",
       "      <td>50.000000</td>\n",
       "    </tr>\n",
       "    <tr>\n",
       "      <th>2</th>\n",
       "      <td>2</td>\n",
       "      <td>195.259507</td>\n",
       "      <td>183.519527</td>\n",
       "      <td>0.007279</td>\n",
       "      <td>0.047055</td>\n",
       "      <td>67.769784</td>\n",
       "    </tr>\n",
       "    <tr>\n",
       "      <th>3</th>\n",
       "      <td>3</td>\n",
       "      <td>141.850087</td>\n",
       "      <td>238.579553</td>\n",
       "      <td>0.000761</td>\n",
       "      <td>0.044315</td>\n",
       "      <td>70.000000</td>\n",
       "    </tr>\n",
       "  </tbody>\n",
       "</table>\n",
       "</div>"
      ],
      "text/plain": [
       "   cluster  discoveryTime   segmentId  travelTime  lengthmm  speedLimitKph\n",
       "0        0     142.642698   92.993087    0.000593  0.035436      70.000000\n",
       "1        1     142.547677  133.302343    0.000978  0.036935      50.000000\n",
       "2        2     195.259507  183.519527    0.007279  0.047055      67.769784\n",
       "3        3     141.850087  238.579553    0.000761  0.044315      70.000000"
      ]
     },
     "execution_count": 23,
     "metadata": {},
     "output_type": "execute_result"
    }
   ],
   "source": [
    "avg_df = data_son1.groupby(['cluster'], as_index=False).mean()\n",
    "avg_df"
   ]
  },
  {
   "cell_type": "code",
   "execution_count": null,
   "id": "4e5ce967",
   "metadata": {},
   "outputs": [],
   "source": []
  }
 ],
 "metadata": {
  "kernelspec": {
   "display_name": "Python 3",
   "language": "python",
   "name": "python3"
  },
  "language_info": {
   "codemirror_mode": {
    "name": "ipython",
    "version": 3
   },
   "file_extension": ".py",
   "mimetype": "text/x-python",
   "name": "python",
   "nbconvert_exporter": "python",
   "pygments_lexer": "ipython3",
   "version": "3.8.8"
  }
 },
 "nbformat": 4,
 "nbformat_minor": 5
}
